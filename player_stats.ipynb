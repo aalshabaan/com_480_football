{
 "cells": [
  {
   "cell_type": "markdown",
   "metadata": {
    "collapsed": true,
    "pycharm": {
     "name": "#%% md\n"
    }
   },
   "source": [
    "# Player data"
   ]
  },
  {
   "cell_type": "code",
   "execution_count": 1,
   "outputs": [],
   "source": [
    "import sqlite3\n",
    "import pandas as pd\n",
    "import seaborn as sns\n",
    "import matplotlib.pyplot as plt\n",
    "import numpy as np\n",
    "\n"
   ],
   "metadata": {
    "collapsed": false,
    "pycharm": {
     "name": "#%%\n"
    }
   }
  },
  {
   "cell_type": "code",
   "execution_count": 2,
   "outputs": [
    {
     "name": "stdout",
     "output_type": "stream",
     "text": [
      "Base df is of shape (11060, 6)\n"
     ]
    },
    {
     "data": {
      "text/plain": "    player_api_id         player_name  player_fifa_api_id  \\\nid                                                          \n1          505942  Aaron Appindangoye              218353   \n2          155782     Aaron Cresswell              189615   \n3          162549         Aaron Doran              186170   \n4           30572       Aaron Galindo              140161   \n5           23780        Aaron Hughes               17725   \n\n               birthday  height  weight  \nid                                       \n1   1992-02-29 00:00:00  182.88     187  \n2   1989-12-15 00:00:00  170.18     146  \n3   1991-05-13 00:00:00  170.18     163  \n4   1982-05-08 00:00:00  182.88     198  \n5   1979-11-08 00:00:00  182.88     154  ",
      "text/html": "<div>\n<style scoped>\n    .dataframe tbody tr th:only-of-type {\n        vertical-align: middle;\n    }\n\n    .dataframe tbody tr th {\n        vertical-align: top;\n    }\n\n    .dataframe thead th {\n        text-align: right;\n    }\n</style>\n<table border=\"1\" class=\"dataframe\">\n  <thead>\n    <tr style=\"text-align: right;\">\n      <th></th>\n      <th>player_api_id</th>\n      <th>player_name</th>\n      <th>player_fifa_api_id</th>\n      <th>birthday</th>\n      <th>height</th>\n      <th>weight</th>\n    </tr>\n    <tr>\n      <th>id</th>\n      <th></th>\n      <th></th>\n      <th></th>\n      <th></th>\n      <th></th>\n      <th></th>\n    </tr>\n  </thead>\n  <tbody>\n    <tr>\n      <th>1</th>\n      <td>505942</td>\n      <td>Aaron Appindangoye</td>\n      <td>218353</td>\n      <td>1992-02-29 00:00:00</td>\n      <td>182.88</td>\n      <td>187</td>\n    </tr>\n    <tr>\n      <th>2</th>\n      <td>155782</td>\n      <td>Aaron Cresswell</td>\n      <td>189615</td>\n      <td>1989-12-15 00:00:00</td>\n      <td>170.18</td>\n      <td>146</td>\n    </tr>\n    <tr>\n      <th>3</th>\n      <td>162549</td>\n      <td>Aaron Doran</td>\n      <td>186170</td>\n      <td>1991-05-13 00:00:00</td>\n      <td>170.18</td>\n      <td>163</td>\n    </tr>\n    <tr>\n      <th>4</th>\n      <td>30572</td>\n      <td>Aaron Galindo</td>\n      <td>140161</td>\n      <td>1982-05-08 00:00:00</td>\n      <td>182.88</td>\n      <td>198</td>\n    </tr>\n    <tr>\n      <th>5</th>\n      <td>23780</td>\n      <td>Aaron Hughes</td>\n      <td>17725</td>\n      <td>1979-11-08 00:00:00</td>\n      <td>182.88</td>\n      <td>154</td>\n    </tr>\n  </tbody>\n</table>\n</div>"
     },
     "execution_count": 2,
     "metadata": {},
     "output_type": "execute_result"
    }
   ],
   "source": [
    "db = sqlite3.connect('../data/database.sqlite')\n",
    "\n",
    "columns_from_attrs = ('id', 'player_api_id', 'player_fifa_api_id', 'date', 'potential')\n",
    "\n",
    "player_df = pd.read_sql_query('SELECT * FROM Player', db, index_col='id')\n",
    "player_atts = pd.read_sql_query('SELECT id, player_api_id, player_fifa_api_id,'\n",
    "                                'date, overall_rating, potential  FROM Player_Attributes', db, index_col='id')\n",
    "db.close()\n",
    "print(f'Base df is of shape {player_df.shape}')\n",
    "player_df.head()"
   ],
   "metadata": {
    "collapsed": false,
    "pycharm": {
     "name": "#%%\n"
    }
   }
  },
  {
   "cell_type": "code",
   "execution_count": 3,
   "outputs": [
    {
     "name": "stdout",
     "output_type": "stream",
     "text": [
      "Attributes is of shape (183978, 5)\n"
     ]
    },
    {
     "data": {
      "text/plain": "    player_api_id  player_fifa_api_id                 date  overall_rating  \\\nid                                                                           \n1          505942              218353  2016-02-18 00:00:00            67.0   \n2          505942              218353  2015-11-19 00:00:00            67.0   \n3          505942              218353  2015-09-21 00:00:00            62.0   \n4          505942              218353  2015-03-20 00:00:00            61.0   \n5          505942              218353  2007-02-22 00:00:00            61.0   \n\n    potential  \nid             \n1        71.0  \n2        71.0  \n3        66.0  \n4        65.0  \n5        65.0  ",
      "text/html": "<div>\n<style scoped>\n    .dataframe tbody tr th:only-of-type {\n        vertical-align: middle;\n    }\n\n    .dataframe tbody tr th {\n        vertical-align: top;\n    }\n\n    .dataframe thead th {\n        text-align: right;\n    }\n</style>\n<table border=\"1\" class=\"dataframe\">\n  <thead>\n    <tr style=\"text-align: right;\">\n      <th></th>\n      <th>player_api_id</th>\n      <th>player_fifa_api_id</th>\n      <th>date</th>\n      <th>overall_rating</th>\n      <th>potential</th>\n    </tr>\n    <tr>\n      <th>id</th>\n      <th></th>\n      <th></th>\n      <th></th>\n      <th></th>\n      <th></th>\n    </tr>\n  </thead>\n  <tbody>\n    <tr>\n      <th>1</th>\n      <td>505942</td>\n      <td>218353</td>\n      <td>2016-02-18 00:00:00</td>\n      <td>67.0</td>\n      <td>71.0</td>\n    </tr>\n    <tr>\n      <th>2</th>\n      <td>505942</td>\n      <td>218353</td>\n      <td>2015-11-19 00:00:00</td>\n      <td>67.0</td>\n      <td>71.0</td>\n    </tr>\n    <tr>\n      <th>3</th>\n      <td>505942</td>\n      <td>218353</td>\n      <td>2015-09-21 00:00:00</td>\n      <td>62.0</td>\n      <td>66.0</td>\n    </tr>\n    <tr>\n      <th>4</th>\n      <td>505942</td>\n      <td>218353</td>\n      <td>2015-03-20 00:00:00</td>\n      <td>61.0</td>\n      <td>65.0</td>\n    </tr>\n    <tr>\n      <th>5</th>\n      <td>505942</td>\n      <td>218353</td>\n      <td>2007-02-22 00:00:00</td>\n      <td>61.0</td>\n      <td>65.0</td>\n    </tr>\n  </tbody>\n</table>\n</div>"
     },
     "execution_count": 3,
     "metadata": {},
     "output_type": "execute_result"
    }
   ],
   "source": [
    "print(f'Attributes is of shape {player_atts.shape}')\n",
    "player_atts.head()"
   ],
   "metadata": {
    "collapsed": false,
    "pycharm": {
     "name": "#%%\n"
    }
   }
  },
  {
   "cell_type": "code",
   "execution_count": 4,
   "outputs": [
    {
     "data": {
      "text/plain": "163840    1\n98997     1\n94891     1\n35500     1\n115373    1\n         ..\n46412     1\n26532     1\n119839    1\n23889     1\n346111    1\nName: player_api_id, Length: 11060, dtype: int64"
     },
     "execution_count": 4,
     "metadata": {},
     "output_type": "execute_result"
    }
   ],
   "source": [
    "player_df.player_api_id.value_counts()"
   ],
   "metadata": {
    "collapsed": false,
    "pycharm": {
     "name": "#%%\n"
    }
   }
  },
  {
   "cell_type": "code",
   "execution_count": 6,
   "outputs": [
    {
     "data": {
      "text/plain": "<Figure size 432x288 with 1 Axes>",
      "image/png": "[encoded data removed]"
     },
     "metadata": {
      "needs_background": "light"
     },
     "output_type": "display_data"
    }
   ],
   "source": [
    "player_atts['date'] = pd.to_datetime(player_atts.date)\n",
    "player_atts.date.hist(bins=(2017-2007)*12)\n",
    "plt.show()"
   ],
   "metadata": {
    "collapsed": false,
    "pycharm": {
     "name": "#%%\n"
    }
   }
  },
  {
   "cell_type": "code",
   "execution_count": 41,
   "outputs": [
    {
     "name": "stdout",
     "output_type": "stream",
     "text": [
      "[505942 155782 162549 ...  36491  35506  39902]\n",
      "[]\n",
      "[]\n",
      "[]\n",
      "[]\n",
      "[]\n",
      "[30572 23780 27316 ... 36491 35506 39902]\n"
     ]
    }
   ],
   "source": [
    "i=0\n",
    "for player_id, g in player_atts.groupby([pd.Grouper(key='date', freq='1m')]):\n",
    "    i+=1\n",
    "    print(g.player_api_id.unique())\n",
    "    if i==7: break"
   ],
   "metadata": {
    "collapsed": false,
    "pycharm": {
     "name": "#%%\n"
    }
   }
  },
  {
   "cell_type": "code",
   "execution_count": 16,
   "outputs": [
    {
     "data": {
      "text/plain": "   player_api_id player_fifa_api_id       date  \\\n0           2625           {148544} 2013-03-08   \n0           2625           {148544} 2011-08-30   \n0           2625           {148544} 2007-02-22   \n0           2625           {148544} 2015-01-16   \n0           2625           {148544} 2012-02-22   \n\n                   overall_rating                 potential  \n0  {58.0, 59.0, 60.0, 61.0, 63.0}  {64.0, 58.0, 61.0, 63.0}  \n0  {58.0, 59.0, 60.0, 61.0, 63.0}  {64.0, 58.0, 61.0, 63.0}  \n0  {58.0, 59.0, 60.0, 61.0, 63.0}  {64.0, 58.0, 61.0, 63.0}  \n0  {58.0, 59.0, 60.0, 61.0, 63.0}  {64.0, 58.0, 61.0, 63.0}  \n0  {58.0, 59.0, 60.0, 61.0, 63.0}  {64.0, 58.0, 61.0, 63.0}  ",
      "text/html": "<div>\n<style scoped>\n    .dataframe tbody tr th:only-of-type {\n        vertical-align: middle;\n    }\n\n    .dataframe tbody tr th {\n        vertical-align: top;\n    }\n\n    .dataframe thead th {\n        text-align: right;\n    }\n</style>\n<table border=\"1\" class=\"dataframe\">\n  <thead>\n    <tr style=\"text-align: right;\">\n      <th></th>\n      <th>player_api_id</th>\n      <th>player_fifa_api_id</th>\n      <th>date</th>\n      <th>overall_rating</th>\n      <th>potential</th>\n    </tr>\n  </thead>\n  <tbody>\n    <tr>\n      <th>0</th>\n      <td>2625</td>\n      <td>{148544}</td>\n      <td>2013-03-08</td>\n      <td>{58.0, 59.0, 60.0, 61.0, 63.0}</td>\n      <td>{64.0, 58.0, 61.0, 63.0}</td>\n    </tr>\n    <tr>\n      <th>0</th>\n      <td>2625</td>\n      <td>{148544}</td>\n      <td>2011-08-30</td>\n      <td>{58.0, 59.0, 60.0, 61.0, 63.0}</td>\n      <td>{64.0, 58.0, 61.0, 63.0}</td>\n    </tr>\n    <tr>\n      <th>0</th>\n      <td>2625</td>\n      <td>{148544}</td>\n      <td>2007-02-22</td>\n      <td>{58.0, 59.0, 60.0, 61.0, 63.0}</td>\n      <td>{64.0, 58.0, 61.0, 63.0}</td>\n    </tr>\n    <tr>\n      <th>0</th>\n      <td>2625</td>\n      <td>{148544}</td>\n      <td>2015-01-16</td>\n      <td>{58.0, 59.0, 60.0, 61.0, 63.0}</td>\n      <td>{64.0, 58.0, 61.0, 63.0}</td>\n    </tr>\n    <tr>\n      <th>0</th>\n      <td>2625</td>\n      <td>{148544}</td>\n      <td>2012-02-22</td>\n      <td>{58.0, 59.0, 60.0, 61.0, 63.0}</td>\n      <td>{64.0, 58.0, 61.0, 63.0}</td>\n    </tr>\n  </tbody>\n</table>\n</div>"
     },
     "execution_count": 16,
     "metadata": {},
     "output_type": "execute_result"
    }
   ],
   "source": [],
   "metadata": {
    "collapsed": false,
    "pycharm": {
     "name": "#%%\n"
    }
   }
  },
  {
   "cell_type": "markdown",
   "source": [
    "Second one has duplicates, drop them"
   ],
   "metadata": {
    "collapsed": false,
    "pycharm": {
     "name": "#%% md\n"
    }
   }
  },
  {
   "cell_type": "code",
   "execution_count": 8,
   "outputs": [
    {
     "name": "stdout",
     "output_type": "stream",
     "text": [
      "Attributes is of shape (11060, 42)\n"
     ]
    }
   ],
   "source": [
    "player_atts.drop_duplicates('player_api_id',inplace=True)\n",
    "print(f'Attributes is of shape {player_atts.shape}')"
   ],
   "metadata": {
    "collapsed": false,
    "pycharm": {
     "name": "#%%\n"
    }
   }
  },
  {
   "cell_type": "code",
   "execution_count": 18,
   "outputs": [
    {
     "data": {
      "text/plain": "<Figure size 432x288 with 2 Axes>",
      "image/png": "[encoded data removed]"
     },
     "metadata": {
      "needs_background": "light"
     },
     "output_type": "display_data"
    }
   ],
   "source": [
    "plt.subplot(121)\n",
    "player_df.weight.plot.hist(title='Weight', bins=100)\n",
    "plt.subplot(122)\n",
    "player_df.height.plot.hist(title='Height', bins=70)\n",
    "plt.show()"
   ],
   "metadata": {
    "collapsed": false,
    "pycharm": {
     "name": "#%%\n"
    }
   }
  },
  {
   "cell_type": "code",
   "execution_count": 6,
   "outputs": [
    {
     "data": {
      "text/plain": "Index(['id', 'player_fifa_api_id', 'player_api_id', 'date', 'overall_rating',\n       'potential', 'preferred_foot', 'attacking_work_rate',\n       'defensive_work_rate', 'crossing', 'finishing', 'heading_accuracy',\n       'short_passing', 'volleys', 'dribbling', 'curve', 'free_kick_accuracy',\n       'long_passing', 'ball_control', 'acceleration', 'sprint_speed',\n       'agility', 'reactions', 'balance', 'shot_power', 'jumping', 'stamina',\n       'strength', 'long_shots', 'aggression', 'interceptions', 'positioning',\n       'vision', 'penalties', 'marking', 'standing_tackle', 'sliding_tackle',\n       'gk_diving', 'gk_handling', 'gk_kicking', 'gk_positioning',\n       'gk_reflexes'],\n      dtype='object')"
     },
     "execution_count": 6,
     "metadata": {},
     "output_type": "execute_result"
    }
   ],
   "source": [
    "player_atts.columns"
   ],
   "metadata": {
    "collapsed": false,
    "pycharm": {
     "name": "#%%\n"
    }
   }
  },
  {
   "cell_type": "code",
   "execution_count": 9,
   "outputs": [],
   "source": [
    "df = player_df.merge(player_atts,on='player_api_id', how='inner')"
   ],
   "metadata": {
    "collapsed": false,
    "pycharm": {
     "name": "#%%\n"
    }
   }
  },
  {
   "cell_type": "code",
   "execution_count": 20,
   "outputs": [
    {
     "data": {
      "text/plain": "<Figure size 432x288 with 1 Axes>",
      "image/png": "[encoded data removed]"
     },
     "metadata": {
      "needs_background": "light"
     },
     "output_type": "display_data"
    }
   ],
   "source": [
    "df.overall_rating.plot.hist(title='overall_rating', bins=100)\n",
    "plt.show()"
   ],
   "metadata": {
    "collapsed": false,
    "pycharm": {
     "name": "#%%\n"
    }
   }
  },
  {
   "cell_type": "code",
   "execution_count": 19,
   "outputs": [
    {
     "data": {
      "text/plain": "count    11060.000000\nmean        67.961935\nstd          6.316694\nmin         42.000000\n25%         64.000000\n50%         68.000000\n75%         72.000000\nmax         94.000000\nName: overall_rating, dtype: float64"
     },
     "execution_count": 19,
     "metadata": {},
     "output_type": "execute_result"
    }
   ],
   "source": [
    "df.overall_rating.describe()"
   ],
   "metadata": {
    "collapsed": false,
    "pycharm": {
     "name": "#%%\n"
    }
   }
  },
  {
   "cell_type": "code",
   "execution_count": 30,
   "outputs": [
    {
     "name": "stdout",
     "output_type": "stream",
     "text": [
      "There are 56 football stars in the world\n"
     ]
    },
    {
     "data": {
      "text/plain": "                  player_name  overall_rating\n6169             Lionel Messi            94.0\n1992        Cristiano Ronaldo            93.0\n6369              Luis Suarez            90.0\n6546             Manuel Neuer            90.0\n7855                   Neymar            90.0\n11041      Zlatan Ibrahimovic            89.0\n948              Arjen Robben            89.0\n9025       Robert Lewandowski            88.0\n10172            Thiago Silva            88.0\n9659            Sergio Aguero            88.0\n2835              Eden Hazard            88.0\n739            Andres Iniesta            88.0\n7316              Mesut Oezil            88.0\n10439              Toni Kroos            87.0\n9684             Sergio Ramos            87.0\n2337             David De Gea            87.0\n6381              Luka Modric            87.0\n8587             Philipp Lahm            87.0\n4883           Jerome Boateng            87.0\n3656              Gareth Bale            87.0\n4595          James Rodriguez            87.0\n6715               Marco Reus            86.0\n10227          Thomas Mueller            86.0\n7126             Mats Hummels            86.0\n10845          Xavi Hernandez            86.0\n8396               Paul Pogba            86.0\n10180        Thibaut Courtois            86.0\n9668          Sergio Busquets            86.0\n8566                Petr Cech            86.0\n498            Alexis Sanchez            86.0\n5730          Kevin de Bruyne            86.0\n794            Angel Di Maria            86.0\n3932          Gonzalo Higuain            86.0\n3862        Giorgio Chiellini            86.0\n3510            Franck Ribery            86.0\n2624              Diego Godin            86.0\n5629            Karim Benzema            86.0\n1642            Cesc Fabregas            86.0\n2410              David Silva            86.0\n2314              David Alaba            85.0\n10907              Yaya Toure            85.0\n10733            Wayne Rooney            85.0\n10629         Vincent Kompany            85.0\n1010             Arturo Vidal            85.0\n1148   Bastian Schweinsteiger            85.0\n1578             Carlos Tevez            85.0\n676           Andrea Barzagli            85.0\n2616              Diego Costa            85.0\n9014           Robert Enke,30            85.0\n2860           Edinson Cavani            85.0\n3771             Gerard Pique            85.0\n7591                  Miranda            85.0\n4206        Henrik Mkhitaryan            85.0\n4268              Hugo Lloris            85.0\n4469             Ivan Rakitic            85.0\n9478            Santi Cazorla            85.0",
      "text/html": "<div>\n<style scoped>\n    .dataframe tbody tr th:only-of-type {\n        vertical-align: middle;\n    }\n\n    .dataframe tbody tr th {\n        vertical-align: top;\n    }\n\n    .dataframe thead th {\n        text-align: right;\n    }\n</style>\n<table border=\"1\" class=\"dataframe\">\n  <thead>\n    <tr style=\"text-align: right;\">\n      <th></th>\n      <th>player_name</th>\n      <th>overall_rating</th>\n    </tr>\n  </thead>\n  <tbody>\n    <tr>\n      <th>6169</th>\n      <td>Lionel Messi</td>\n      <td>94.0</td>\n    </tr>\n    <tr>\n      <th>1992</th>\n      <td>Cristiano Ronaldo</td>\n      <td>93.0</td>\n    </tr>\n    <tr>\n      <th>6369</th>\n      <td>Luis Suarez</td>\n      <td>90.0</td>\n    </tr>\n    <tr>\n      <th>6546</th>\n      <td>Manuel Neuer</td>\n      <td>90.0</td>\n    </tr>\n    <tr>\n      <th>7855</th>\n      <td>Neymar</td>\n      <td>90.0</td>\n    </tr>\n    <tr>\n      <th>11041</th>\n      <td>Zlatan Ibrahimovic</td>\n      <td>89.0</td>\n    </tr>\n    <tr>\n      <th>948</th>\n      <td>Arjen Robben</td>\n      <td>89.0</td>\n    </tr>\n    <tr>\n      <th>9025</th>\n      <td>Robert Lewandowski</td>\n      <td>88.0</td>\n    </tr>\n    <tr>\n      <th>10172</th>\n      <td>Thiago Silva</td>\n      <td>88.0</td>\n    </tr>\n    <tr>\n      <th>9659</th>\n      <td>Sergio Aguero</td>\n      <td>88.0</td>\n    </tr>\n    <tr>\n      <th>2835</th>\n      <td>Eden Hazard</td>\n      <td>88.0</td>\n    </tr>\n    <tr>\n      <th>739</th>\n      <td>Andres Iniesta</td>\n      <td>88.0</td>\n    </tr>\n    <tr>\n      <th>7316</th>\n      <td>Mesut Oezil</td>\n      <td>88.0</td>\n    </tr>\n    <tr>\n      <th>10439</th>\n      <td>Toni Kroos</td>\n      <td>87.0</td>\n    </tr>\n    <tr>\n      <th>9684</th>\n      <td>Sergio Ramos</td>\n      <td>87.0</td>\n    </tr>\n    <tr>\n      <th>2337</th>\n      <td>David De Gea</td>\n      <td>87.0</td>\n    </tr>\n    <tr>\n      <th>6381</th>\n      <td>Luka Modric</td>\n      <td>87.0</td>\n    </tr>\n    <tr>\n      <th>8587</th>\n      <td>Philipp Lahm</td>\n      <td>87.0</td>\n    </tr>\n    <tr>\n      <th>4883</th>\n      <td>Jerome Boateng</td>\n      <td>87.0</td>\n    </tr>\n    <tr>\n      <th>3656</th>\n      <td>Gareth Bale</td>\n      <td>87.0</td>\n    </tr>\n    <tr>\n      <th>4595</th>\n      <td>James Rodriguez</td>\n      <td>87.0</td>\n    </tr>\n    <tr>\n      <th>6715</th>\n      <td>Marco Reus</td>\n      <td>86.0</td>\n    </tr>\n    <tr>\n      <th>10227</th>\n      <td>Thomas Mueller</td>\n      <td>86.0</td>\n    </tr>\n    <tr>\n      <th>7126</th>\n      <td>Mats Hummels</td>\n      <td>86.0</td>\n    </tr>\n    <tr>\n      <th>10845</th>\n      <td>Xavi Hernandez</td>\n      <td>86.0</td>\n    </tr>\n    <tr>\n      <th>8396</th>\n      <td>Paul Pogba</td>\n      <td>86.0</td>\n    </tr>\n    <tr>\n      <th>10180</th>\n      <td>Thibaut Courtois</td>\n      <td>86.0</td>\n    </tr>\n    <tr>\n      <th>9668</th>\n      <td>Sergio Busquets</td>\n      <td>86.0</td>\n    </tr>\n    <tr>\n      <th>8566</th>\n      <td>Petr Cech</td>\n      <td>86.0</td>\n    </tr>\n    <tr>\n      <th>498</th>\n      <td>Alexis Sanchez</td>\n      <td>86.0</td>\n    </tr>\n    <tr>\n      <th>5730</th>\n      <td>Kevin de Bruyne</td>\n      <td>86.0</td>\n    </tr>\n    <tr>\n      <th>794</th>\n      <td>Angel Di Maria</td>\n      <td>86.0</td>\n    </tr>\n    <tr>\n      <th>3932</th>\n      <td>Gonzalo Higuain</td>\n      <td>86.0</td>\n    </tr>\n    <tr>\n      <th>3862</th>\n      <td>Giorgio Chiellini</td>\n      <td>86.0</td>\n    </tr>\n    <tr>\n      <th>3510</th>\n      <td>Franck Ribery</td>\n      <td>86.0</td>\n    </tr>\n    <tr>\n      <th>2624</th>\n      <td>Diego Godin</td>\n      <td>86.0</td>\n    </tr>\n    <tr>\n      <th>5629</th>\n      <td>Karim Benzema</td>\n      <td>86.0</td>\n    </tr>\n    <tr>\n      <th>1642</th>\n      <td>Cesc Fabregas</td>\n      <td>86.0</td>\n    </tr>\n    <tr>\n      <th>2410</th>\n      <td>David Silva</td>\n      <td>86.0</td>\n    </tr>\n    <tr>\n      <th>2314</th>\n      <td>David Alaba</td>\n      <td>85.0</td>\n    </tr>\n    <tr>\n      <th>10907</th>\n      <td>Yaya Toure</td>\n      <td>85.0</td>\n    </tr>\n    <tr>\n      <th>10733</th>\n      <td>Wayne Rooney</td>\n      <td>85.0</td>\n    </tr>\n    <tr>\n      <th>10629</th>\n      <td>Vincent Kompany</td>\n      <td>85.0</td>\n    </tr>\n    <tr>\n      <th>1010</th>\n      <td>Arturo Vidal</td>\n      <td>85.0</td>\n    </tr>\n    <tr>\n      <th>1148</th>\n      <td>Bastian Schweinsteiger</td>\n      <td>85.0</td>\n    </tr>\n    <tr>\n      <th>1578</th>\n      <td>Carlos Tevez</td>\n      <td>85.0</td>\n    </tr>\n    <tr>\n      <th>676</th>\n      <td>Andrea Barzagli</td>\n      <td>85.0</td>\n    </tr>\n    <tr>\n      <th>2616</th>\n      <td>Diego Costa</td>\n      <td>85.0</td>\n    </tr>\n    <tr>\n      <th>9014</th>\n      <td>Robert Enke,30</td>\n      <td>85.0</td>\n    </tr>\n    <tr>\n      <th>2860</th>\n      <td>Edinson Cavani</td>\n      <td>85.0</td>\n    </tr>\n    <tr>\n      <th>3771</th>\n      <td>Gerard Pique</td>\n      <td>85.0</td>\n    </tr>\n    <tr>\n      <th>7591</th>\n      <td>Miranda</td>\n      <td>85.0</td>\n    </tr>\n    <tr>\n      <th>4206</th>\n      <td>Henrik Mkhitaryan</td>\n      <td>85.0</td>\n    </tr>\n    <tr>\n      <th>4268</th>\n      <td>Hugo Lloris</td>\n      <td>85.0</td>\n    </tr>\n    <tr>\n      <th>4469</th>\n      <td>Ivan Rakitic</td>\n      <td>85.0</td>\n    </tr>\n    <tr>\n      <th>9478</th>\n      <td>Santi Cazorla</td>\n      <td>85.0</td>\n    </tr>\n  </tbody>\n</table>\n</div>"
     },
     "execution_count": 30,
     "metadata": {},
     "output_type": "execute_result"
    }
   ],
   "source": [
    "stars = df[df.overall_rating >= 85]\n",
    "print(f'There are {stars.shape[0]} football stars in the world')\n",
    "stars.sort_values('overall_rating', ascending=False)[['player_name', 'overall_rating']]"
   ],
   "metadata": {
    "collapsed": false,
    "pycharm": {
     "name": "#%%\n"
    }
   }
  },
  {
   "cell_type": "code",
   "execution_count": 32,
   "outputs": [
    {
     "data": {
      "text/plain": "id_x                      int64\nplayer_api_id             int64\nplayer_name              object\nplayer_fifa_api_id_x      int64\nbirthday                 object\nheight                  float64\nweight                    int64\nid_y                      int64\nplayer_fifa_api_id_y      int64\ndate                     object\noverall_rating          float64\npotential               float64\npreferred_foot           object\nattacking_work_rate      object\ndefensive_work_rate      object\ncrossing                float64\nfinishing               float64\nheading_accuracy        float64\nshort_passing           float64\nvolleys                 float64\ndribbling               float64\ncurve                   float64\nfree_kick_accuracy      float64\nlong_passing            float64\nball_control            float64\nacceleration            float64\nsprint_speed            float64\nagility                 float64\nreactions               float64\nbalance                 float64\nshot_power              float64\njumping                 float64\nstamina                 float64\nstrength                float64\nlong_shots              float64\naggression              float64\ninterceptions           float64\npositioning             float64\nvision                  float64\npenalties               float64\nmarking                 float64\nstanding_tackle         float64\nsliding_tackle          float64\ngk_diving               float64\ngk_handling             float64\ngk_kicking              float64\ngk_positioning          float64\ngk_reflexes             float64\ndtype: object"
     },
     "execution_count": 32,
     "metadata": {},
     "output_type": "execute_result"
    }
   ],
   "source": [
    "stars.dtypes"
   ],
   "metadata": {
    "collapsed": false,
    "pycharm": {
     "name": "#%%\n"
    }
   }
  },
  {
   "cell_type": "code",
   "execution_count": 37,
   "outputs": [
    {
     "data": {
      "text/plain": "1"
     },
     "execution_count": 37,
     "metadata": {},
     "output_type": "execute_result"
    }
   ],
   "source": [
    "player_atts.player_fifa_api_id.value_counts().max()"
   ],
   "metadata": {
    "collapsed": false,
    "pycharm": {
     "name": "#%%\n"
    }
   }
  },
  {
   "cell_type": "code",
   "execution_count": null,
   "outputs": [],
   "source": [],
   "metadata": {
    "collapsed": false,
    "pycharm": {
     "name": "#%%\n"
    }
   }
  }
 ],
 "metadata": {
  "kernelspec": {
   "display_name": "Python 3",
   "language": "python",
   "name": "python3"
  },
  "language_info": {
   "codemirror_mode": {
    "name": "ipython",
    "version": 2
   },
   "file_extension": ".py",
   "mimetype": "text/x-python",
   "name": "python",
   "nbconvert_exporter": "python",
   "pygments_lexer": "ipython2",
   "version": "2.7.6"
  }
 },
 "nbformat": 4,
 "nbformat_minor": 0
}