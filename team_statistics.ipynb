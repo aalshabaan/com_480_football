{
 "cells": [
  {
   "cell_type": "code",
   "execution_count": 3,
   "id": "d7b94ad8-783b-4260-8d18-8affa7463034",
   "metadata": {},
   "outputs": [],
   "source": [
    "import sqlite3\n",
    "import pandas as pd\n",
    "import numpy as np"
   ]
  },
  {
   "cell_type": "code",
   "execution_count": 4,
   "id": "5dad1bde-3c52-41ef-a504-45f0fe7b8ea3",
   "metadata": {},
   "outputs": [],
   "source": [
    "# Loading Data\n",
    "db = sqlite3.connect('../data/database.sqlite')\n",
    "#country = pd.read_sql_query('SELECT * FROM Country', db)\n",
    "#league = pd.read_sql_query('SELECT * FROM League', db)\n",
    "match = pd.read_sql_query('SELECT * FROM Match', db)\n",
    "player = pd.read_sql_query('SELECT * FROM Player', db)\n",
    "player_attributes = pd.read_sql_query('SELECT * FROM Player_Attributes', db)\n",
    "player_attributes['date'] = pd.to_datetime(player_attributes.date)\n",
    "team = pd.read_sql_query('SELECT * FROM Team', db)\n",
    "#team_attributes = pd.read_sql_query('SELECT * FROM Team_Attributes', db)\n",
    "'''league_season_winners= pd.read_sql_query(\"\"\"\n",
    "select league_id, season,team_api_id, team_long_name, max(wins) as wins\n",
    "from\n",
    "\t(SELECT league_id, season,team_api_id, team_long_name, count(*) as wins\n",
    "\tFROM Match, Team\n",
    "\tWHERE (home_team_api_id==team_api_id AND home_team_goal > away_team_goal) OR (away_team_api_id == team_api_id AND home_team_goal < away_team_goal)\n",
    "\tGROUP By league_id, season,team_api_id, team_long_name)\n",
    "where wins>10\n",
    "GROUP by league_id, season;\n",
    " \"\"\", db)'''\n",
    "db.close()"
   ]
  },
  {
   "cell_type": "code",
   "execution_count": 3,
   "id": "b453b5fa-1446-4754-855b-e7927b50d41b",
   "metadata": {},
   "outputs": [
    {
     "data": {
      "text/plain": "    league_id     season  team_api_id          team_long_name  wins\n0           1  2008/2009         8635          RSC Anderlecht    24\n1           1  2009/2010         8635          RSC Anderlecht    22\n2           1  2010/2011         8635          RSC Anderlecht    19\n3           1  2011/2012         8635          RSC Anderlecht    20\n4           1  2012/2013         8635          RSC Anderlecht    20\n5           1  2014/2015         8342          Club Brugge KV    17\n6           1  2015/2016         8342          Club Brugge KV    21\n7        1729  2008/2009        10260       Manchester United    28\n8        1729  2009/2010         8455                 Chelsea    27\n9        1729  2010/2011        10260       Manchester United    23\n10       1729  2011/2012         8456         Manchester City    28\n11       1729  2012/2013        10260       Manchester United    28\n12       1729  2013/2014         8456         Manchester City    27\n13       1729  2014/2015         8455                 Chelsea    26\n14       1729  2015/2016         8197          Leicester City    23\n15       4769  2008/2009         9827   Girondins de Bordeaux    24\n16       4769  2009/2010         8592  Olympique de Marseille    23\n17       4769  2010/2011         8639              LOSC Lille    21",
      "text/html": "<div>\n<style scoped>\n    .dataframe tbody tr th:only-of-type {\n        vertical-align: middle;\n    }\n\n    .dataframe tbody tr th {\n        vertical-align: top;\n    }\n\n    .dataframe thead th {\n        text-align: right;\n    }\n</style>\n<table border=\"1\" class=\"dataframe\">\n  <thead>\n    <tr style=\"text-align: right;\">\n      <th></th>\n      <th>league_id</th>\n      <th>season</th>\n      <th>team_api_id</th>\n      <th>team_long_name</th>\n      <th>wins</th>\n    </tr>\n  </thead>\n  <tbody>\n    <tr>\n      <th>0</th>\n      <td>1</td>\n      <td>2008/2009</td>\n      <td>8635</td>\n      <td>RSC Anderlecht</td>\n      <td>24</td>\n    </tr>\n    <tr>\n      <th>1</th>\n      <td>1</td>\n      <td>2009/2010</td>\n      <td>8635</td>\n      <td>RSC Anderlecht</td>\n      <td>22</td>\n    </tr>\n    <tr>\n      <th>2</th>\n      <td>1</td>\n      <td>2010/2011</td>\n      <td>8635</td>\n      <td>RSC Anderlecht</td>\n      <td>19</td>\n    </tr>\n    <tr>\n      <th>3</th>\n      <td>1</td>\n      <td>2011/2012</td>\n      <td>8635</td>\n      <td>RSC Anderlecht</td>\n      <td>20</td>\n    </tr>\n    <tr>\n      <th>4</th>\n      <td>1</td>\n      <td>2012/2013</td>\n      <td>8635</td>\n      <td>RSC Anderlecht</td>\n      <td>20</td>\n    </tr>\n    <tr>\n      <th>5</th>\n      <td>1</td>\n      <td>2014/2015</td>\n      <td>8342</td>\n      <td>Club Brugge KV</td>\n      <td>17</td>\n    </tr>\n    <tr>\n      <th>6</th>\n      <td>1</td>\n      <td>2015/2016</td>\n      <td>8342</td>\n      <td>Club Brugge KV</td>\n      <td>21</td>\n    </tr>\n    <tr>\n      <th>7</th>\n      <td>1729</td>\n      <td>2008/2009</td>\n      <td>10260</td>\n      <td>Manchester United</td>\n      <td>28</td>\n    </tr>\n    <tr>\n      <th>8</th>\n      <td>1729</td>\n      <td>2009/2010</td>\n      <td>8455</td>\n      <td>Chelsea</td>\n      <td>27</td>\n    </tr>\n    <tr>\n      <th>9</th>\n      <td>1729</td>\n      <td>2010/2011</td>\n      <td>10260</td>\n      <td>Manchester United</td>\n      <td>23</td>\n    </tr>\n    <tr>\n      <th>10</th>\n      <td>1729</td>\n      <td>2011/2012</td>\n      <td>8456</td>\n      <td>Manchester City</td>\n      <td>28</td>\n    </tr>\n    <tr>\n      <th>11</th>\n      <td>1729</td>\n      <td>2012/2013</td>\n      <td>10260</td>\n      <td>Manchester United</td>\n      <td>28</td>\n    </tr>\n    <tr>\n      <th>12</th>\n      <td>1729</td>\n      <td>2013/2014</td>\n      <td>8456</td>\n      <td>Manchester City</td>\n      <td>27</td>\n    </tr>\n    <tr>\n      <th>13</th>\n      <td>1729</td>\n      <td>2014/2015</td>\n      <td>8455</td>\n      <td>Chelsea</td>\n      <td>26</td>\n    </tr>\n    <tr>\n      <th>14</th>\n      <td>1729</td>\n      <td>2015/2016</td>\n      <td>8197</td>\n      <td>Leicester City</td>\n      <td>23</td>\n    </tr>\n    <tr>\n      <th>15</th>\n      <td>4769</td>\n      <td>2008/2009</td>\n      <td>9827</td>\n      <td>Girondins de Bordeaux</td>\n      <td>24</td>\n    </tr>\n    <tr>\n      <th>16</th>\n      <td>4769</td>\n      <td>2009/2010</td>\n      <td>8592</td>\n      <td>Olympique de Marseille</td>\n      <td>23</td>\n    </tr>\n    <tr>\n      <th>17</th>\n      <td>4769</td>\n      <td>2010/2011</td>\n      <td>8639</td>\n      <td>LOSC Lille</td>\n      <td>21</td>\n    </tr>\n  </tbody>\n</table>\n</div>"
     },
     "execution_count": 3,
     "metadata": {},
     "output_type": "execute_result"
    }
   ],
   "source": [
    "league_season_winners.head(18)"
   ]
  },
  {
   "cell_type": "code",
   "execution_count": 4,
   "id": "ec274159-ac5a-4aaa-9389-7f6f6a1e415b",
   "metadata": {},
   "outputs": [
    {
     "data": {
      "text/plain": "'|    |   league_id | season    |   team_api_id | team_long_name   |   wins |\\n|---:|------------:|:----------|--------------:|:-----------------|-------:|\\n|  1 |           1 | 2009/2010 |          8635 | RSC Anderlecht   |     22 |\\n| 77 |       21518 | 2014/2015 |          8633 | Real Madrid CF   |     30 |\\n| 23 |        7809 | 2008/2009 |          8721 | VfL Wolfsburg    |     21 |\\n|  3 |           1 | 2011/2012 |          8635 | RSC Anderlecht   |     20 |\\n| 76 |       21518 | 2013/2014 |          9906 | Atlético Madrid  |     28 |'"
     },
     "execution_count": 4,
     "metadata": {},
     "output_type": "execute_result"
    }
   ],
   "source": [
    "winners_md = league_season_winners.sample(5).to_markdown()\n",
    "winners_md"
   ]
  },
  {
   "cell_type": "code",
   "execution_count": 6,
   "outputs": [],
   "source": [
    "home_player_cols = [f'home_player_{i}' for i in range(1,12)]\n",
    "away_player_cols = [f'away_player_{i}' for i in range(1,12)]\n",
    "\n",
    "match['home_players'] = match[home_player_cols].agg(list, axis=1)\n",
    "match['away_players'] = match[away_player_cols].agg(list, axis=1)"
   ],
   "metadata": {
    "collapsed": false,
    "pycharm": {
     "name": "#%%\n"
    }
   }
  },
  {
   "cell_type": "code",
   "execution_count": 7,
   "outputs": [
    {
     "data": {
      "text/plain": "        id  league_id     season  stage                 date  match_api_id  \\\n1728  1729       1729  2008/2009      1  2008-08-17 00:00:00        489042   \n1729  1730       1729  2008/2009      1  2008-08-16 00:00:00        489043   \n1730  1731       1729  2008/2009      1  2008-08-16 00:00:00        489044   \n1731  1732       1729  2008/2009      1  2008-08-16 00:00:00        489045   \n1732  1733       1729  2008/2009      1  2008-08-17 00:00:00        489046   \n\n      home_team_api_id  away_team_api_id  home_team_goal  away_team_goal  \\\n1728             10260             10261               1               1   \n1729              9825              8659               1               0   \n1730              8472              8650               0               1   \n1731              8654              8528               2               1   \n1732             10252              8456               4               2   \n\n                                                   goal  \\\n1728  <goal><value><comment>n</comment><stats><goals...   \n1729  <goal><value><comment>n</comment><stats><goals...   \n1730  <goal><value><comment>n</comment><stats><goals...   \n1731  <goal><value><comment>n</comment><stats><goals...   \n1732  <goal><value><comment>n</comment><stats><goals...   \n\n                                                   card  \\\n1728  <card><value><comment>y</comment><stats><ycard...   \n1729                                           <card />   \n1730  <card><value><comment>y</comment><stats><ycard...   \n1731  <card><value><comment>y</comment><stats><ycard...   \n1732  <card><value><comment>y</comment><stats><ycard...   \n\n                                           home_players  \\\n1728  [30726.0, 30362.0, 30620.0, 30865.0, 32569.0, ...   \n1729  [23686.0, 26111.0, 38835.0, 30986.0, 31291.0, ...   \n1730  [32562.0, 38836.0, 24446.0, 24408.0, 36786.0, ...   \n1731  [36374.0, 30966.0, 23818.0, 37277.0, 30687.0, ...   \n1732  [30380.0, 30357.0, 24658.0, 43280.0, 23282.0, ...   \n\n                                           away_players  \n1728  [24224.0, 25518.0, 24228.0, 30929.0, 29581.0, ...  \n1729  [36373.0, 36832.0, 23115.0, 37280.0, 24728.0, ...  \n1730  [30660.0, 37442.0, 30617.0, 24134.0, 414792.0,...  \n1731  [34421.0, 34987.0, 35472.0, 111865.0, 25005.0,...  \n1732  [31432.0, 46403.0, 24208.0, 23939.0, 33963.0, ...  ",
      "text/html": "<div>\n<style scoped>\n    .dataframe tbody tr th:only-of-type {\n        vertical-align: middle;\n    }\n\n    .dataframe tbody tr th {\n        vertical-align: top;\n    }\n\n    .dataframe thead th {\n        text-align: right;\n    }\n</style>\n<table border=\"1\" class=\"dataframe\">\n  <thead>\n    <tr style=\"text-align: right;\">\n      <th></th>\n      <th>id</th>\n      <th>league_id</th>\n      <th>season</th>\n      <th>stage</th>\n      <th>date</th>\n      <th>match_api_id</th>\n      <th>home_team_api_id</th>\n      <th>away_team_api_id</th>\n      <th>home_team_goal</th>\n      <th>away_team_goal</th>\n      <th>goal</th>\n      <th>card</th>\n      <th>home_players</th>\n      <th>away_players</th>\n    </tr>\n  </thead>\n  <tbody>\n    <tr>\n      <th>1728</th>\n      <td>1729</td>\n      <td>1729</td>\n      <td>2008/2009</td>\n      <td>1</td>\n      <td>2008-08-17 00:00:00</td>\n      <td>489042</td>\n      <td>10260</td>\n      <td>10261</td>\n      <td>1</td>\n      <td>1</td>\n      <td>&lt;goal&gt;&lt;value&gt;&lt;comment&gt;n&lt;/comment&gt;&lt;stats&gt;&lt;goals...</td>\n      <td>&lt;card&gt;&lt;value&gt;&lt;comment&gt;y&lt;/comment&gt;&lt;stats&gt;&lt;ycard...</td>\n      <td>[30726.0, 30362.0, 30620.0, 30865.0, 32569.0, ...</td>\n      <td>[24224.0, 25518.0, 24228.0, 30929.0, 29581.0, ...</td>\n    </tr>\n    <tr>\n      <th>1729</th>\n      <td>1730</td>\n      <td>1729</td>\n      <td>2008/2009</td>\n      <td>1</td>\n      <td>2008-08-16 00:00:00</td>\n      <td>489043</td>\n      <td>9825</td>\n      <td>8659</td>\n      <td>1</td>\n      <td>0</td>\n      <td>&lt;goal&gt;&lt;value&gt;&lt;comment&gt;n&lt;/comment&gt;&lt;stats&gt;&lt;goals...</td>\n      <td>&lt;card /&gt;</td>\n      <td>[23686.0, 26111.0, 38835.0, 30986.0, 31291.0, ...</td>\n      <td>[36373.0, 36832.0, 23115.0, 37280.0, 24728.0, ...</td>\n    </tr>\n    <tr>\n      <th>1730</th>\n      <td>1731</td>\n      <td>1729</td>\n      <td>2008/2009</td>\n      <td>1</td>\n      <td>2008-08-16 00:00:00</td>\n      <td>489044</td>\n      <td>8472</td>\n      <td>8650</td>\n      <td>0</td>\n      <td>1</td>\n      <td>&lt;goal&gt;&lt;value&gt;&lt;comment&gt;n&lt;/comment&gt;&lt;stats&gt;&lt;goals...</td>\n      <td>&lt;card&gt;&lt;value&gt;&lt;comment&gt;y&lt;/comment&gt;&lt;stats&gt;&lt;ycard...</td>\n      <td>[32562.0, 38836.0, 24446.0, 24408.0, 36786.0, ...</td>\n      <td>[30660.0, 37442.0, 30617.0, 24134.0, 414792.0,...</td>\n    </tr>\n    <tr>\n      <th>1731</th>\n      <td>1732</td>\n      <td>1729</td>\n      <td>2008/2009</td>\n      <td>1</td>\n      <td>2008-08-16 00:00:00</td>\n      <td>489045</td>\n      <td>8654</td>\n      <td>8528</td>\n      <td>2</td>\n      <td>1</td>\n      <td>&lt;goal&gt;&lt;value&gt;&lt;comment&gt;n&lt;/comment&gt;&lt;stats&gt;&lt;goals...</td>\n      <td>&lt;card&gt;&lt;value&gt;&lt;comment&gt;y&lt;/comment&gt;&lt;stats&gt;&lt;ycard...</td>\n      <td>[36374.0, 30966.0, 23818.0, 37277.0, 30687.0, ...</td>\n      <td>[34421.0, 34987.0, 35472.0, 111865.0, 25005.0,...</td>\n    </tr>\n    <tr>\n      <th>1732</th>\n      <td>1733</td>\n      <td>1729</td>\n      <td>2008/2009</td>\n      <td>1</td>\n      <td>2008-08-17 00:00:00</td>\n      <td>489046</td>\n      <td>10252</td>\n      <td>8456</td>\n      <td>4</td>\n      <td>2</td>\n      <td>&lt;goal&gt;&lt;value&gt;&lt;comment&gt;n&lt;/comment&gt;&lt;stats&gt;&lt;goals...</td>\n      <td>&lt;card&gt;&lt;value&gt;&lt;comment&gt;y&lt;/comment&gt;&lt;stats&gt;&lt;ycard...</td>\n      <td>[30380.0, 30357.0, 24658.0, 43280.0, 23282.0, ...</td>\n      <td>[31432.0, 46403.0, 24208.0, 23939.0, 33963.0, ...</td>\n    </tr>\n  </tbody>\n</table>\n</div>"
     },
     "execution_count": 7,
     "metadata": {},
     "output_type": "execute_result"
    }
   ],
   "source": [
    "match = match[['id', 'league_id', 'season', 'stage', 'date', 'match_api_id', 'home_team_api_id', 'away_team_api_id',\n",
    "               'home_team_goal', 'away_team_goal', 'goal', 'card', 'home_players', 'away_players']].dropna()\n",
    "\n",
    "match.head(5)"
   ],
   "metadata": {
    "collapsed": false,
    "pycharm": {
     "name": "#%%\n"
    }
   }
  },
  {
   "cell_type": "code",
   "execution_count": 27,
   "outputs": [],
   "source": [
    "def unique_players(series):\n",
    "    players = []\n",
    "    for entry in series:\n",
    "        players.extend(entry)\n",
    "\n",
    "    return list(set(players))"
   ],
   "metadata": {
    "collapsed": false,
    "pycharm": {
     "name": "#%%\n"
    }
   }
  },
  {
   "cell_type": "code",
   "execution_count": 28,
   "outputs": [],
   "source": [
    "players_per_team_per_season = {}\n",
    "\n",
    "teams = match.home_team_api_id.append(match.away_team_api_id, ignore_index=True).unique()\n",
    "\n",
    "for team in teams:\n",
    "    players_per_team_per_season[team] = {}\n",
    "    temp = match[match.away_team_api_id == team]\n",
    "    for season, df in temp.groupby('season'):\n",
    "        players_per_team_per_season[team][season] = unique_players(df.away_players)\n",
    "\n",
    "    temp = match[match.away_team_api_id == team]\n",
    "    for season,df in temp.groupby('season'):\n",
    "        players_per_team_per_season[team][season].extend(unique_players(df.away_players))\n",
    "        players_per_team_per_season[team][season] = list(set(players_per_team_per_season[team][season]))"
   ],
   "metadata": {
    "collapsed": false,
    "pycharm": {
     "name": "#%%\n"
    }
   }
  },
  {
   "cell_type": "code",
   "execution_count": 29,
   "outputs": [
    {
     "name": "stdout",
     "output_type": "stream",
     "text": [
      "[24224.0, 25518.0, 24228.0, 30929.0, 29581.0, 38807.0, 40565.0, 30360.0, 33852.0, 34574.0, 37799.0]\n"
     ]
    }
   ],
   "source": [
    "for s in match.away_players:\n",
    "    print(s)\n",
    "    break"
   ],
   "metadata": {
    "collapsed": false,
    "pycharm": {
     "name": "#%%\n"
    }
   }
  },
  {
   "cell_type": "code",
   "execution_count": 14,
   "outputs": [
    {
     "name": "stdout",
     "output_type": "stream",
     "text": [
      "id\n",
      "country_id\n",
      "league_id\n",
      "season\n",
      "stage\n",
      "date\n",
      "match_api_id\n",
      "home_team_api_id\n",
      "away_team_api_id\n",
      "home_team_goal\n",
      "away_team_goal\n",
      "home_player_X1\n",
      "home_player_X2\n",
      "home_player_X3\n",
      "home_player_X4\n",
      "home_player_X5\n",
      "home_player_X6\n",
      "home_player_X7\n",
      "home_player_X8\n",
      "home_player_X9\n",
      "home_player_X10\n",
      "home_player_X11\n",
      "away_player_X1\n",
      "away_player_X2\n",
      "away_player_X3\n",
      "away_player_X4\n",
      "away_player_X5\n",
      "away_player_X6\n",
      "away_player_X7\n",
      "away_player_X8\n",
      "away_player_X9\n",
      "away_player_X10\n",
      "away_player_X11\n",
      "home_player_Y1\n",
      "home_player_Y2\n",
      "home_player_Y3\n",
      "home_player_Y4\n",
      "home_player_Y5\n",
      "home_player_Y6\n",
      "home_player_Y7\n",
      "home_player_Y8\n",
      "home_player_Y9\n",
      "home_player_Y10\n",
      "home_player_Y11\n",
      "away_player_Y1\n",
      "away_player_Y2\n",
      "away_player_Y3\n",
      "away_player_Y4\n",
      "away_player_Y5\n",
      "away_player_Y6\n",
      "away_player_Y7\n",
      "away_player_Y8\n",
      "away_player_Y9\n",
      "away_player_Y10\n",
      "away_player_Y11\n",
      "home_player_1\n",
      "home_player_2\n",
      "home_player_3\n",
      "home_player_4\n",
      "home_player_5\n",
      "home_player_6\n",
      "home_player_7\n",
      "home_player_8\n",
      "home_player_9\n",
      "home_player_10\n",
      "home_player_11\n",
      "away_player_1\n",
      "away_player_2\n",
      "away_player_3\n",
      "away_player_4\n",
      "away_player_5\n",
      "away_player_6\n",
      "away_player_7\n",
      "away_player_8\n",
      "away_player_9\n",
      "away_player_10\n",
      "away_player_11\n",
      "goal\n",
      "shoton\n",
      "shotoff\n",
      "foulcommit\n",
      "card\n",
      "cross\n",
      "corner\n",
      "possession\n",
      "B365H\n",
      "B365D\n",
      "B365A\n",
      "BWH\n",
      "BWD\n",
      "BWA\n",
      "IWH\n",
      "IWD\n",
      "IWA\n",
      "LBH\n",
      "LBD\n",
      "LBA\n",
      "PSH\n",
      "PSD\n",
      "PSA\n",
      "WHH\n",
      "WHD\n",
      "WHA\n",
      "SJH\n",
      "SJD\n",
      "SJA\n",
      "VCH\n",
      "VCD\n",
      "VCA\n",
      "GBH\n",
      "GBD\n",
      "GBA\n",
      "BSH\n",
      "BSD\n",
      "BSA\n",
      "home_players\n",
      "away_players\n"
     ]
    }
   ],
   "source": [
    "for x in match.columns:\n",
    "    print(x)"
   ],
   "metadata": {
    "collapsed": false,
    "pycharm": {
     "name": "#%%\n"
    }
   }
  },
  {
   "cell_type": "code",
   "execution_count": 51,
   "outputs": [],
   "source": [
    "players_per_team_df = pd.DataFrame(players_per_team_per_season).reset_index()\n",
    "\n",
    "players_per_team_df = players_per_team_df.melt(id_vars='index')\n",
    "players_per_team_df.columns = ['season', 'team_api_id', 'players']\n",
    "players_per_team_df.dropna(subset=['players'], inplace=True, axis=0)\n",
    "\n",
    "players_per_team_df['players'] = players_per_team_df.players.apply(lambda x: [int(y) for y in pd.Series(x).dropna()])"
   ],
   "metadata": {
    "collapsed": false,
    "pycharm": {
     "name": "#%%\n"
    }
   }
  },
  {
   "cell_type": "code",
   "execution_count": 52,
   "outputs": [
    {
     "name": "stdout",
     "output_type": "stream",
     "text": [
      "(815, 3)\n"
     ]
    },
    {
     "data": {
      "text/plain": "         season team_api_id                                            players\n1374  2014/2015        8305  [75397, 67334, 38427, 209950, 101920, 109222, ...\n865   2009/2010        8543  [33544, 27657, 30474, 27660, 39444, 33687, 393...\n349   2013/2014        9851  [473858, 447107, 26374, 159882, 156556, 231199...\n326   2014/2015       10249  [210692, 202633, 215307, 18576, 192920, 26138,...\n365   2013/2014        9874  [173955, 26118, 279178, 112012, 26126, 185618,...",
      "text/html": "<div>\n<style scoped>\n    .dataframe tbody tr th:only-of-type {\n        vertical-align: middle;\n    }\n\n    .dataframe tbody tr th {\n        vertical-align: top;\n    }\n\n    .dataframe thead th {\n        text-align: right;\n    }\n</style>\n<table border=\"1\" class=\"dataframe\">\n  <thead>\n    <tr style=\"text-align: right;\">\n      <th></th>\n      <th>season</th>\n      <th>team_api_id</th>\n      <th>players</th>\n    </tr>\n  </thead>\n  <tbody>\n    <tr>\n      <th>1374</th>\n      <td>2014/2015</td>\n      <td>8305</td>\n      <td>[75397, 67334, 38427, 209950, 101920, 109222, ...</td>\n    </tr>\n    <tr>\n      <th>865</th>\n      <td>2009/2010</td>\n      <td>8543</td>\n      <td>[33544, 27657, 30474, 27660, 39444, 33687, 393...</td>\n    </tr>\n    <tr>\n      <th>349</th>\n      <td>2013/2014</td>\n      <td>9851</td>\n      <td>[473858, 447107, 26374, 159882, 156556, 231199...</td>\n    </tr>\n    <tr>\n      <th>326</th>\n      <td>2014/2015</td>\n      <td>10249</td>\n      <td>[210692, 202633, 215307, 18576, 192920, 26138,...</td>\n    </tr>\n    <tr>\n      <th>365</th>\n      <td>2013/2014</td>\n      <td>9874</td>\n      <td>[173955, 26118, 279178, 112012, 26126, 185618,...</td>\n    </tr>\n  </tbody>\n</table>\n</div>"
     },
     "execution_count": 52,
     "metadata": {},
     "output_type": "execute_result"
    }
   ],
   "source": [],
   "metadata": {
    "collapsed": false,
    "pycharm": {
     "name": "#%%\n"
    }
   }
  },
  {
   "cell_type": "code",
   "execution_count": null,
   "outputs": [],
   "source": [
    "print(players_per_team_df.shape)\n",
    "players_per_team_df.sample(5)"
   ],
   "metadata": {
    "collapsed": false,
    "pycharm": {
     "name": "#%%\n"
    }
   }
  },
  {
   "cell_type": "code",
   "execution_count": 53,
   "outputs": [],
   "source": [
    "players_per_team_df.to_csv('players_per_team.csv', index_label='idx')"
   ],
   "metadata": {
    "collapsed": false,
    "pycharm": {
     "name": "#%%\n"
    }
   }
  },
  {
   "cell_type": "code",
   "execution_count": 8,
   "outputs": [
    {
     "data": {
      "text/plain": "         season  team_api_id  \\\nidx                            \n884   2012/2013         9857   \n1288  2008/2009         8696   \n1086  2014/2015         7788   \n69    2013/2014         8667   \n461   2013/2014         9837   \n\n                                                players  \nidx                                                      \n884   [198400, 115330, 41475, 27658, 199833, 39450, ...  \n1288  [37512, 33828, 38567, 35638, 37579, 37581, 338...  \n1086  [179201, 189957, 189958, 45831, 148487, 179206...  \n69    [163200, 42247, 35480, 23839, 24227, 24105, 23...  \n461   [14593, 184591, 26262, 131991, 26264, 26402, 2...  ",
      "text/html": "<div>\n<style scoped>\n    .dataframe tbody tr th:only-of-type {\n        vertical-align: middle;\n    }\n\n    .dataframe tbody tr th {\n        vertical-align: top;\n    }\n\n    .dataframe thead th {\n        text-align: right;\n    }\n</style>\n<table border=\"1\" class=\"dataframe\">\n  <thead>\n    <tr style=\"text-align: right;\">\n      <th></th>\n      <th>season</th>\n      <th>team_api_id</th>\n      <th>players</th>\n    </tr>\n    <tr>\n      <th>idx</th>\n      <th></th>\n      <th></th>\n      <th></th>\n    </tr>\n  </thead>\n  <tbody>\n    <tr>\n      <th>884</th>\n      <td>2012/2013</td>\n      <td>9857</td>\n      <td>[198400, 115330, 41475, 27658, 199833, 39450, ...</td>\n    </tr>\n    <tr>\n      <th>1288</th>\n      <td>2008/2009</td>\n      <td>8696</td>\n      <td>[37512, 33828, 38567, 35638, 37579, 37581, 338...</td>\n    </tr>\n    <tr>\n      <th>1086</th>\n      <td>2014/2015</td>\n      <td>7788</td>\n      <td>[179201, 189957, 189958, 45831, 148487, 179206...</td>\n    </tr>\n    <tr>\n      <th>69</th>\n      <td>2013/2014</td>\n      <td>8667</td>\n      <td>[163200, 42247, 35480, 23839, 24227, 24105, 23...</td>\n    </tr>\n    <tr>\n      <th>461</th>\n      <td>2013/2014</td>\n      <td>9837</td>\n      <td>[14593, 184591, 26262, 131991, 26264, 26402, 2...</td>\n    </tr>\n  </tbody>\n</table>\n</div>"
     },
     "execution_count": 8,
     "metadata": {},
     "output_type": "execute_result"
    }
   ],
   "source": [
    "players_per_team_df = pd.read_csv('players_per_team.csv', index_col='idx')\n",
    "players_per_team_df['players'] = players_per_team_df.players.apply(eval)\n",
    "players_per_team_df.sample(5)"
   ],
   "metadata": {
    "collapsed": false,
    "pycharm": {
     "name": "#%%\n"
    }
   }
  },
  {
   "cell_type": "code",
   "execution_count": 24,
   "outputs": [],
   "source": [
    "def calculate_total_score(row):\n",
    "    l = row.season.split('/')\n",
    "    start_year, end_year = l[0], l[1]\n",
    "    start_date = pd.to_datetime(f'01-08-{start_year}')\n",
    "    end_date = pd.to_datetime(f'01-06-{end_year}')\n",
    "    temp = player_attributes[np.logical_and(np.logical_and(player_attributes['player_api_id'].isin(row.players), player_attributes.date <= end_date), player_attributes.date >= start_date)][['player_api_id', 'overall_rating']]\n",
    "    temp = temp.groupby('player_api_id').mean()\n",
    "    return temp['overall_rating'].sum()"
   ],
   "metadata": {
    "collapsed": false,
    "pycharm": {
     "name": "#%%\n"
    }
   }
  },
  {
   "cell_type": "code",
   "execution_count": 25,
   "outputs": [
    {
     "data": {
      "text/plain": "        season  team_api_id  \\\n126  2012/2013         8528   \n750  2014/2015         9865   \n221  2015/2016         9941   \n568  2010/2011         9880   \n459  2015/2016         8535   \n\n                                               players  total_score  \\\n126  [26631, 35472, 118929, 49825, 71844, 212389, 1...  1647.000000   \n750  [99333, 45204, 434325, 37656, 150296, 113311, ...  1508.895238   \n221  [303360, 166020, 210184, 169865, 435214, 19074...  1567.083333   \n568  [39306, 73999, 39701, 41243, 155297, 41380, 39...  1688.500000   \n459  [141699, 47373, 38433, 414245, 113318, 38699, ...  1736.482179   \n\n     average_score  team_long_name  \n126      71.608696  Wigan Athletic  \n750      68.586147      UD Almería  \n221      68.134058     Toulouse FC  \n568      70.354167          Cesena  \n459      75.499225      Fiorentina  ",
      "text/html": "<div>\n<style scoped>\n    .dataframe tbody tr th:only-of-type {\n        vertical-align: middle;\n    }\n\n    .dataframe tbody tr th {\n        vertical-align: top;\n    }\n\n    .dataframe thead th {\n        text-align: right;\n    }\n</style>\n<table border=\"1\" class=\"dataframe\">\n  <thead>\n    <tr style=\"text-align: right;\">\n      <th></th>\n      <th>season</th>\n      <th>team_api_id</th>\n      <th>players</th>\n      <th>total_score</th>\n      <th>average_score</th>\n      <th>team_long_name</th>\n    </tr>\n  </thead>\n  <tbody>\n    <tr>\n      <th>126</th>\n      <td>2012/2013</td>\n      <td>8528</td>\n      <td>[26631, 35472, 118929, 49825, 71844, 212389, 1...</td>\n      <td>1647.000000</td>\n      <td>71.608696</td>\n      <td>Wigan Athletic</td>\n    </tr>\n    <tr>\n      <th>750</th>\n      <td>2014/2015</td>\n      <td>9865</td>\n      <td>[99333, 45204, 434325, 37656, 150296, 113311, ...</td>\n      <td>1508.895238</td>\n      <td>68.586147</td>\n      <td>UD Almería</td>\n    </tr>\n    <tr>\n      <th>221</th>\n      <td>2015/2016</td>\n      <td>9941</td>\n      <td>[303360, 166020, 210184, 169865, 435214, 19074...</td>\n      <td>1567.083333</td>\n      <td>68.134058</td>\n      <td>Toulouse FC</td>\n    </tr>\n    <tr>\n      <th>568</th>\n      <td>2010/2011</td>\n      <td>9880</td>\n      <td>[39306, 73999, 39701, 41243, 155297, 41380, 39...</td>\n      <td>1688.500000</td>\n      <td>70.354167</td>\n      <td>Cesena</td>\n    </tr>\n    <tr>\n      <th>459</th>\n      <td>2015/2016</td>\n      <td>8535</td>\n      <td>[141699, 47373, 38433, 414245, 113318, 38699, ...</td>\n      <td>1736.482179</td>\n      <td>75.499225</td>\n      <td>Fiorentina</td>\n    </tr>\n  </tbody>\n</table>\n</div>"
     },
     "execution_count": 25,
     "metadata": {},
     "output_type": "execute_result"
    }
   ],
   "source": [
    "players_per_team_df['total_score'] = players_per_team_df.apply(calculate_total_score, axis=1)\n",
    "\n",
    "players_per_team_df['average_score'] = players_per_team_df.total_score/players_per_team_df.players.apply(len)\n",
    "players_per_team_df.sample(5)"
   ],
   "metadata": {
    "collapsed": false,
    "pycharm": {
     "name": "#%%\n"
    }
   }
  },
  {
   "cell_type": "code",
   "execution_count": 26,
   "outputs": [
    {
     "data": {
      "text/plain": "      season  team_api_id                                            players  \\\n0  2008/2009        10260  [34944, 40961, 30726, 67850, 30865, 30615, 303...   \n1  2009/2010        10260  [34944, 40961, 30726, 67850, 30865, 30615, 303...   \n2  2010/2011        10260  [34944, 40961, 30726, 70409, 30865, 30615, 303...   \n3  2011/2012        10260  [34944, 40961, 182917, 70409, 30865, 186137, 3...   \n4  2012/2013        10260  [34944, 40961, 182917, 70409, 30865, 186137, 3...   \n\n   total_score  average_score   team_long_name_x   team_long_name_y  \n0       2094.5      74.803571  Manchester United  Manchester United  \n1       1908.0      76.320000  Manchester United  Manchester United  \n2       2077.0      76.925926  Manchester United  Manchester United  \n3       1770.5      73.770833  Manchester United  Manchester United  \n4       1930.5      80.437500  Manchester United  Manchester United  ",
      "text/html": "<div>\n<style scoped>\n    .dataframe tbody tr th:only-of-type {\n        vertical-align: middle;\n    }\n\n    .dataframe tbody tr th {\n        vertical-align: top;\n    }\n\n    .dataframe thead th {\n        text-align: right;\n    }\n</style>\n<table border=\"1\" class=\"dataframe\">\n  <thead>\n    <tr style=\"text-align: right;\">\n      <th></th>\n      <th>season</th>\n      <th>team_api_id</th>\n      <th>players</th>\n      <th>total_score</th>\n      <th>average_score</th>\n      <th>team_long_name_x</th>\n      <th>team_long_name_y</th>\n    </tr>\n  </thead>\n  <tbody>\n    <tr>\n      <th>0</th>\n      <td>2008/2009</td>\n      <td>10260</td>\n      <td>[34944, 40961, 30726, 67850, 30865, 30615, 303...</td>\n      <td>2094.5</td>\n      <td>74.803571</td>\n      <td>Manchester United</td>\n      <td>Manchester United</td>\n    </tr>\n    <tr>\n      <th>1</th>\n      <td>2009/2010</td>\n      <td>10260</td>\n      <td>[34944, 40961, 30726, 67850, 30865, 30615, 303...</td>\n      <td>1908.0</td>\n      <td>76.320000</td>\n      <td>Manchester United</td>\n      <td>Manchester United</td>\n    </tr>\n    <tr>\n      <th>2</th>\n      <td>2010/2011</td>\n      <td>10260</td>\n      <td>[34944, 40961, 30726, 70409, 30865, 30615, 303...</td>\n      <td>2077.0</td>\n      <td>76.925926</td>\n      <td>Manchester United</td>\n      <td>Manchester United</td>\n    </tr>\n    <tr>\n      <th>3</th>\n      <td>2011/2012</td>\n      <td>10260</td>\n      <td>[34944, 40961, 182917, 70409, 30865, 186137, 3...</td>\n      <td>1770.5</td>\n      <td>73.770833</td>\n      <td>Manchester United</td>\n      <td>Manchester United</td>\n    </tr>\n    <tr>\n      <th>4</th>\n      <td>2012/2013</td>\n      <td>10260</td>\n      <td>[34944, 40961, 182917, 70409, 30865, 186137, 3...</td>\n      <td>1930.5</td>\n      <td>80.437500</td>\n      <td>Manchester United</td>\n      <td>Manchester United</td>\n    </tr>\n  </tbody>\n</table>\n</div>"
     },
     "execution_count": 26,
     "metadata": {},
     "output_type": "execute_result"
    }
   ],
   "source": [
    "players_per_team_df = players_per_team_df.merge(team[['team_api_id', 'team_long_name']], left_on='team_api_id', right_on='team_api_id')\n",
    "players_per_team_df.head()"
   ],
   "metadata": {
    "collapsed": false,
    "pycharm": {
     "name": "#%%\n"
    }
   }
  },
  {
   "cell_type": "code",
   "execution_count": 27,
   "outputs": [
    {
     "data": {
      "text/plain": "          id  league_id     season  stage                 date  match_api_id  \\\n22995  22996      21518  2011/2012      5  2011-09-21 00:00:00       1051697   \n10130  10131       7809  2015/2016     28  2016-04-02 00:00:00       2002336   \n11872  11873      10257  2012/2013      2  2012-09-01 00:00:00       1286985   \n4444    4445       1729  2015/2016     14  2015-11-29 00:00:00       1988846   \n6665    6666       4769  2012/2013      9  2012-10-20 00:00:00       1216898   \n\n       home_team_api_id  away_team_api_id  home_team_goal  away_team_goal  \\\n22995              8370              8581               1               2   \n10130              9823              9810               1               0   \n11872              9804              9878               3               0   \n4444               9850              9825               1               1   \n6665               9851             10249               2               1   \n\n                                                    goal  \\\n22995  <goal><value><comment>n</comment><stats><goals...   \n10130  <goal><value><comment>n</comment><stats><goals...   \n11872  <goal><value><comment>npm</comment><event_inci...   \n4444   <goal><value><comment>n</comment><stats><goals...   \n6665   <goal><value><comment>n</comment><stats><goals...   \n\n                                                    card  \\\n22995  <card><value><comment>y</comment><stats><ycard...   \n10130  <card><value><comment>y</comment><stats><ycard...   \n11872  <card><value><comment>y</comment><stats><ycard...   \n4444   <card><value><comment>y</comment><stats><ycard...   \n6665   <card><value><comment>y</comment><stats><ycard...   \n\n                                            home_players  \\\n22995  [196126.0, 183449.0, 33961.0, 172147.0, 33898....   \n10130  [27299.0, 30894.0, 37410.0, 121633.0, 282691.0...   \n11872  [41818.0, 46820.0, 150670.0, 49543.0, 39391.0,...   \n4444   [40602.0, 265918.0, 72417.0, 26209.0, 25667.0,...   \n6665   [11319.0, 159882.0, 41120.0, 103470.0, 179517....   \n\n                                            away_players  result  \n22995  [33753.0, 37597.0, 33847.0, 37672.0, 37484.0, ...      -1  \n10130  [66757.0, 158234.0, 106309.0, 18904.0, 155534....       1  \n11872  [181910.0, 190971.0, 39541.0, 215723.0, 39485....       1  \n4444   [30859.0, 427438.0, 35606.0, 46539.0, 38521.0,...       0  \n6665   [33109.0, 26325.0, 26399.0, 26138.0, 41360.0, ...       1  ",
      "text/html": "<div>\n<style scoped>\n    .dataframe tbody tr th:only-of-type {\n        vertical-align: middle;\n    }\n\n    .dataframe tbody tr th {\n        vertical-align: top;\n    }\n\n    .dataframe thead th {\n        text-align: right;\n    }\n</style>\n<table border=\"1\" class=\"dataframe\">\n  <thead>\n    <tr style=\"text-align: right;\">\n      <th></th>\n      <th>id</th>\n      <th>league_id</th>\n      <th>season</th>\n      <th>stage</th>\n      <th>date</th>\n      <th>match_api_id</th>\n      <th>home_team_api_id</th>\n      <th>away_team_api_id</th>\n      <th>home_team_goal</th>\n      <th>away_team_goal</th>\n      <th>goal</th>\n      <th>card</th>\n      <th>home_players</th>\n      <th>away_players</th>\n      <th>result</th>\n    </tr>\n  </thead>\n  <tbody>\n    <tr>\n      <th>22995</th>\n      <td>22996</td>\n      <td>21518</td>\n      <td>2011/2012</td>\n      <td>5</td>\n      <td>2011-09-21 00:00:00</td>\n      <td>1051697</td>\n      <td>8370</td>\n      <td>8581</td>\n      <td>1</td>\n      <td>2</td>\n      <td>&lt;goal&gt;&lt;value&gt;&lt;comment&gt;n&lt;/comment&gt;&lt;stats&gt;&lt;goals...</td>\n      <td>&lt;card&gt;&lt;value&gt;&lt;comment&gt;y&lt;/comment&gt;&lt;stats&gt;&lt;ycard...</td>\n      <td>[196126.0, 183449.0, 33961.0, 172147.0, 33898....</td>\n      <td>[33753.0, 37597.0, 33847.0, 37672.0, 37484.0, ...</td>\n      <td>-1</td>\n    </tr>\n    <tr>\n      <th>10130</th>\n      <td>10131</td>\n      <td>7809</td>\n      <td>2015/2016</td>\n      <td>28</td>\n      <td>2016-04-02 00:00:00</td>\n      <td>2002336</td>\n      <td>9823</td>\n      <td>9810</td>\n      <td>1</td>\n      <td>0</td>\n      <td>&lt;goal&gt;&lt;value&gt;&lt;comment&gt;n&lt;/comment&gt;&lt;stats&gt;&lt;goals...</td>\n      <td>&lt;card&gt;&lt;value&gt;&lt;comment&gt;y&lt;/comment&gt;&lt;stats&gt;&lt;ycard...</td>\n      <td>[27299.0, 30894.0, 37410.0, 121633.0, 282691.0...</td>\n      <td>[66757.0, 158234.0, 106309.0, 18904.0, 155534....</td>\n      <td>1</td>\n    </tr>\n    <tr>\n      <th>11872</th>\n      <td>11873</td>\n      <td>10257</td>\n      <td>2012/2013</td>\n      <td>2</td>\n      <td>2012-09-01 00:00:00</td>\n      <td>1286985</td>\n      <td>9804</td>\n      <td>9878</td>\n      <td>3</td>\n      <td>0</td>\n      <td>&lt;goal&gt;&lt;value&gt;&lt;comment&gt;npm&lt;/comment&gt;&lt;event_inci...</td>\n      <td>&lt;card&gt;&lt;value&gt;&lt;comment&gt;y&lt;/comment&gt;&lt;stats&gt;&lt;ycard...</td>\n      <td>[41818.0, 46820.0, 150670.0, 49543.0, 39391.0,...</td>\n      <td>[181910.0, 190971.0, 39541.0, 215723.0, 39485....</td>\n      <td>1</td>\n    </tr>\n    <tr>\n      <th>4444</th>\n      <td>4445</td>\n      <td>1729</td>\n      <td>2015/2016</td>\n      <td>14</td>\n      <td>2015-11-29 00:00:00</td>\n      <td>1988846</td>\n      <td>9850</td>\n      <td>9825</td>\n      <td>1</td>\n      <td>1</td>\n      <td>&lt;goal&gt;&lt;value&gt;&lt;comment&gt;n&lt;/comment&gt;&lt;stats&gt;&lt;goals...</td>\n      <td>&lt;card&gt;&lt;value&gt;&lt;comment&gt;y&lt;/comment&gt;&lt;stats&gt;&lt;ycard...</td>\n      <td>[40602.0, 265918.0, 72417.0, 26209.0, 25667.0,...</td>\n      <td>[30859.0, 427438.0, 35606.0, 46539.0, 38521.0,...</td>\n      <td>0</td>\n    </tr>\n    <tr>\n      <th>6665</th>\n      <td>6666</td>\n      <td>4769</td>\n      <td>2012/2013</td>\n      <td>9</td>\n      <td>2012-10-20 00:00:00</td>\n      <td>1216898</td>\n      <td>9851</td>\n      <td>10249</td>\n      <td>2</td>\n      <td>1</td>\n      <td>&lt;goal&gt;&lt;value&gt;&lt;comment&gt;n&lt;/comment&gt;&lt;stats&gt;&lt;goals...</td>\n      <td>&lt;card&gt;&lt;value&gt;&lt;comment&gt;y&lt;/comment&gt;&lt;stats&gt;&lt;ycard...</td>\n      <td>[11319.0, 159882.0, 41120.0, 103470.0, 179517....</td>\n      <td>[33109.0, 26325.0, 26399.0, 26138.0, 41360.0, ...</td>\n      <td>1</td>\n    </tr>\n  </tbody>\n</table>\n</div>"
     },
     "execution_count": 27,
     "metadata": {},
     "output_type": "execute_result"
    }
   ],
   "source": [
    "match['result'] = np.sign(match.home_team_goal - match.away_team_goal)\n",
    "match.sample(5)"
   ],
   "metadata": {
    "collapsed": false,
    "pycharm": {
     "name": "#%%\n"
    }
   }
  },
  {
   "cell_type": "code",
   "execution_count": 30,
   "outputs": [
    {
     "data": {
      "text/plain": "        season  team_api_id  \\\n659  2010/2011         9783   \n376  2008/2009         9904   \n459  2015/2016         8535   \n386  2010/2011         8226   \n20   2012/2013         8472   \n\n                                               players  total_score  \\\n659  [96651, 167069, 37793, 18853, 45744, 33844, 34...  1970.500000   \n376  [37380, 39045, 30854, 27654, 25483, 23819, 272...  1751.000000   \n459  [141699, 47373, 38433, 414245, 113318, 38699, ...  1736.482179   \n386  [37381, 147729, 27411, 242709, 39841, 157729, ...  1614.500000   \n20   [30352, 46353, 23073, 24230, 36786, 111801, 33...  1488.500000   \n\n     average_score           team_long_name_x           team_long_name_y  \\\n659      70.375000  RC Deportivo de La Coruña  RC Deportivo de La Coruña   \n376      72.958333                Hannover 96                Hannover 96   \n459      75.499225                 Fiorentina                 Fiorentina   \n386      70.195652        TSG 1899 Hoffenheim        TSG 1899 Hoffenheim   \n20       70.880952                 Sunderland                 Sunderland   \n\n     total_points  \n659            43  \n376            40  \n459            64  \n386            43  \n20             39  ",
      "text/html": "<div>\n<style scoped>\n    .dataframe tbody tr th:only-of-type {\n        vertical-align: middle;\n    }\n\n    .dataframe tbody tr th {\n        vertical-align: top;\n    }\n\n    .dataframe thead th {\n        text-align: right;\n    }\n</style>\n<table border=\"1\" class=\"dataframe\">\n  <thead>\n    <tr style=\"text-align: right;\">\n      <th></th>\n      <th>season</th>\n      <th>team_api_id</th>\n      <th>players</th>\n      <th>total_score</th>\n      <th>average_score</th>\n      <th>team_long_name_x</th>\n      <th>team_long_name_y</th>\n      <th>total_points</th>\n    </tr>\n  </thead>\n  <tbody>\n    <tr>\n      <th>659</th>\n      <td>2010/2011</td>\n      <td>9783</td>\n      <td>[96651, 167069, 37793, 18853, 45744, 33844, 34...</td>\n      <td>1970.500000</td>\n      <td>70.375000</td>\n      <td>RC Deportivo de La Coruña</td>\n      <td>RC Deportivo de La Coruña</td>\n      <td>43</td>\n    </tr>\n    <tr>\n      <th>376</th>\n      <td>2008/2009</td>\n      <td>9904</td>\n      <td>[37380, 39045, 30854, 27654, 25483, 23819, 272...</td>\n      <td>1751.000000</td>\n      <td>72.958333</td>\n      <td>Hannover 96</td>\n      <td>Hannover 96</td>\n      <td>40</td>\n    </tr>\n    <tr>\n      <th>459</th>\n      <td>2015/2016</td>\n      <td>8535</td>\n      <td>[141699, 47373, 38433, 414245, 113318, 38699, ...</td>\n      <td>1736.482179</td>\n      <td>75.499225</td>\n      <td>Fiorentina</td>\n      <td>Fiorentina</td>\n      <td>64</td>\n    </tr>\n    <tr>\n      <th>386</th>\n      <td>2010/2011</td>\n      <td>8226</td>\n      <td>[37381, 147729, 27411, 242709, 39841, 157729, ...</td>\n      <td>1614.500000</td>\n      <td>70.195652</td>\n      <td>TSG 1899 Hoffenheim</td>\n      <td>TSG 1899 Hoffenheim</td>\n      <td>43</td>\n    </tr>\n    <tr>\n      <th>20</th>\n      <td>2012/2013</td>\n      <td>8472</td>\n      <td>[30352, 46353, 23073, 24230, 36786, 111801, 33...</td>\n      <td>1488.500000</td>\n      <td>70.880952</td>\n      <td>Sunderland</td>\n      <td>Sunderland</td>\n      <td>39</td>\n    </tr>\n  </tbody>\n</table>\n</div>"
     },
     "execution_count": 30,
     "metadata": {},
     "output_type": "execute_result"
    }
   ],
   "source": [
    "players_per_team_df['total_points'] = 0\n",
    "for season, df in match.groupby('season'):\n",
    "    mask = players_per_team_df.season == season\n",
    "    for idx, row in df.iterrows():\n",
    "        if row.result == 1:\n",
    "            players_per_team_df.loc[np.logical_and(mask, players_per_team_df.team_api_id == row.home_team_api_id), 'total_points'] += 3\n",
    "        elif row.result == -1:\n",
    "            players_per_team_df.loc[np.logical_and(mask, players_per_team_df.team_api_id == row.away_team_api_id), 'total_points'] += 3\n",
    "        else:\n",
    "            players_per_team_df.loc[np.logical_and(mask, players_per_team_df.team_api_id == row.home_team_api_id), 'total_points'] += 1\n",
    "            players_per_team_df.loc[np.logical_and(mask, players_per_team_df.team_api_id == row.away_team_api_id), 'total_points'] += 1\n",
    "\n",
    "\n",
    "players_per_team_df.sample(5)"
   ],
   "metadata": {
    "collapsed": false,
    "pycharm": {
     "name": "#%%\n"
    }
   }
  },
  {
   "cell_type": "code",
   "execution_count": 33,
   "outputs": [
    {
     "data": {
      "text/plain": "        season  team_api_id  \\\n58   2010/2011         8455   \n671  2011/2012         9869   \n172  2012/2013         8521   \n530  2015/2016         9857   \n295  2015/2016         8178   \n\n                                               players  total_score  \\\n58   [30853, 163205, 30856, 30859, 31906, 30627, 52...  1565.500000   \n671  [74752, 75395, 195335, 202639, 34582, 107929, ...  1834.000000   \n172  [167557, 26251, 21776, 421785, 39965, 93471, 2...  1907.500000   \n530  [447488, 362115, 518663, 415113, 154249, 30068...  1975.925214   \n295  [215168, 37373, 103686, 70409, 667787, 261653,...  1782.907937   \n\n     average_score          team_long_name  total_points  \n58       82.394737                 Chelsea            71  \n671      65.500000  Real Sporting de Gijón            37  \n172      65.775862       Stade Brestois 29            29  \n530      70.568758                 Bologna            42  \n295      74.287831     Bayer 04 Leverkusen            60  ",
      "text/html": "<div>\n<style scoped>\n    .dataframe tbody tr th:only-of-type {\n        vertical-align: middle;\n    }\n\n    .dataframe tbody tr th {\n        vertical-align: top;\n    }\n\n    .dataframe thead th {\n        text-align: right;\n    }\n</style>\n<table border=\"1\" class=\"dataframe\">\n  <thead>\n    <tr style=\"text-align: right;\">\n      <th></th>\n      <th>season</th>\n      <th>team_api_id</th>\n      <th>players</th>\n      <th>total_score</th>\n      <th>average_score</th>\n      <th>team_long_name</th>\n      <th>total_points</th>\n    </tr>\n  </thead>\n  <tbody>\n    <tr>\n      <th>58</th>\n      <td>2010/2011</td>\n      <td>8455</td>\n      <td>[30853, 163205, 30856, 30859, 31906, 30627, 52...</td>\n      <td>1565.500000</td>\n      <td>82.394737</td>\n      <td>Chelsea</td>\n      <td>71</td>\n    </tr>\n    <tr>\n      <th>671</th>\n      <td>2011/2012</td>\n      <td>9869</td>\n      <td>[74752, 75395, 195335, 202639, 34582, 107929, ...</td>\n      <td>1834.000000</td>\n      <td>65.500000</td>\n      <td>Real Sporting de Gijón</td>\n      <td>37</td>\n    </tr>\n    <tr>\n      <th>172</th>\n      <td>2012/2013</td>\n      <td>8521</td>\n      <td>[167557, 26251, 21776, 421785, 39965, 93471, 2...</td>\n      <td>1907.500000</td>\n      <td>65.775862</td>\n      <td>Stade Brestois 29</td>\n      <td>29</td>\n    </tr>\n    <tr>\n      <th>530</th>\n      <td>2015/2016</td>\n      <td>9857</td>\n      <td>[447488, 362115, 518663, 415113, 154249, 30068...</td>\n      <td>1975.925214</td>\n      <td>70.568758</td>\n      <td>Bologna</td>\n      <td>42</td>\n    </tr>\n    <tr>\n      <th>295</th>\n      <td>2015/2016</td>\n      <td>8178</td>\n      <td>[215168, 37373, 103686, 70409, 667787, 261653,...</td>\n      <td>1782.907937</td>\n      <td>74.287831</td>\n      <td>Bayer 04 Leverkusen</td>\n      <td>60</td>\n    </tr>\n  </tbody>\n</table>\n</div>"
     },
     "execution_count": 33,
     "metadata": {},
     "output_type": "execute_result"
    }
   ],
   "source": [
    "#players_per_team_df.drop('team_long_name_x', axis=1, inplace=True)\n",
    "players_per_team_df.rename(columns={'team_long_name_y': 'team_long_name'}, inplace=True)\n",
    "players_per_team_df.sample(5)"
   ],
   "metadata": {
    "collapsed": false,
    "pycharm": {
     "name": "#%%\n"
    }
   }
  },
  {
   "cell_type": "code",
   "execution_count": 34,
   "outputs": [],
   "source": [
    "players_per_team_df.to_csv('final_df.csv',index_label='id')"
   ],
   "metadata": {
    "collapsed": false,
    "pycharm": {
     "name": "#%%\n"
    }
   }
  }
 ],
 "metadata": {
  "kernelspec": {
   "display_name": "Python 3",
   "language": "python",
   "name": "python3"
  },
  "language_info": {
   "codemirror_mode": {
    "name": "ipython",
    "version": 3
   },
   "file_extension": ".py",
   "mimetype": "text/x-python",
   "name": "python",
   "nbconvert_exporter": "python",
   "pygments_lexer": "ipython3",
   "version": "3.8.5"
  }
 },
 "nbformat": 4,
 "nbformat_minor": 5
}