{
 "cells": [
  {
   "cell_type": "code",
   "execution_count": 1,
   "id": "d7b94ad8-783b-4260-8d18-8affa7463034",
   "metadata": {},
   "outputs": [],
   "source": [
    "import sqlite3\n",
    "import pandas as pd\n",
    "import numpy as np"
   ]
  },
  {
   "cell_type": "code",
   "execution_count": 2,
   "id": "5dad1bde-3c52-41ef-a504-45f0fe7b8ea3",
   "metadata": {},
   "outputs": [],
   "source": [
    "# Loading Data\n",
    "db = sqlite3.connect('../data/database.sqlite')\n",
    "country = pd.read_sql_query('SELECT * FROM Country', db)\n",
    "league = pd.read_sql_query('SELECT * FROM League', db)\n",
    "match = pd.read_sql_query('SELECT * FROM Match', db)\n",
    "player = pd.read_sql_query('SELECT * FROM Player', db)\n",
    "player_attributes = pd.read_sql_query('SELECT * FROM Player_Attributes', db)\n",
    "team = pd.read_sql_query('SELECT * FROM Team', db)\n",
    "team_attributes = pd.read_sql_query('SELECT * FROM Team_Attributes', db)\n",
    "league_season_winners= pd.read_sql_query(\"\"\"\n",
    "select league_id, season,team_api_id, team_long_name, max(wins) as wins\n",
    "from\n",
    "\t(SELECT league_id, season,team_api_id, team_long_name, count(*) as wins\n",
    "\tFROM Match, Team \n",
    "\tWHERE (home_team_api_id==team_api_id AND home_team_goal > away_team_goal) OR (away_team_api_id == team_api_id AND home_team_goal < away_team_goal)\n",
    "\tGROUP By league_id, season,team_api_id, team_long_name)\n",
    "where wins>10\n",
    "GROUP by league_id, season;\n",
    " \"\"\", db)\n",
    "db.close()"
   ]
  },
  {
   "cell_type": "code",
   "execution_count": 3,
   "id": "b453b5fa-1446-4754-855b-e7927b50d41b",
   "metadata": {},
   "outputs": [
    {
     "data": {
      "text/plain": "    league_id     season  team_api_id          team_long_name  wins\n0           1  2008/2009         8635          RSC Anderlecht    24\n1           1  2009/2010         8635          RSC Anderlecht    22\n2           1  2010/2011         8635          RSC Anderlecht    19\n3           1  2011/2012         8635          RSC Anderlecht    20\n4           1  2012/2013         8635          RSC Anderlecht    20\n5           1  2014/2015         8342          Club Brugge KV    17\n6           1  2015/2016         8342          Club Brugge KV    21\n7        1729  2008/2009        10260       Manchester United    28\n8        1729  2009/2010         8455                 Chelsea    27\n9        1729  2010/2011        10260       Manchester United    23\n10       1729  2011/2012         8456         Manchester City    28\n11       1729  2012/2013        10260       Manchester United    28\n12       1729  2013/2014         8456         Manchester City    27\n13       1729  2014/2015         8455                 Chelsea    26\n14       1729  2015/2016         8197          Leicester City    23\n15       4769  2008/2009         9827   Girondins de Bordeaux    24\n16       4769  2009/2010         8592  Olympique de Marseille    23\n17       4769  2010/2011         8639              LOSC Lille    21",
      "text/html": "<div>\n<style scoped>\n    .dataframe tbody tr th:only-of-type {\n        vertical-align: middle;\n    }\n\n    .dataframe tbody tr th {\n        vertical-align: top;\n    }\n\n    .dataframe thead th {\n        text-align: right;\n    }\n</style>\n<table border=\"1\" class=\"dataframe\">\n  <thead>\n    <tr style=\"text-align: right;\">\n      <th></th>\n      <th>league_id</th>\n      <th>season</th>\n      <th>team_api_id</th>\n      <th>team_long_name</th>\n      <th>wins</th>\n    </tr>\n  </thead>\n  <tbody>\n    <tr>\n      <th>0</th>\n      <td>1</td>\n      <td>2008/2009</td>\n      <td>8635</td>\n      <td>RSC Anderlecht</td>\n      <td>24</td>\n    </tr>\n    <tr>\n      <th>1</th>\n      <td>1</td>\n      <td>2009/2010</td>\n      <td>8635</td>\n      <td>RSC Anderlecht</td>\n      <td>22</td>\n    </tr>\n    <tr>\n      <th>2</th>\n      <td>1</td>\n      <td>2010/2011</td>\n      <td>8635</td>\n      <td>RSC Anderlecht</td>\n      <td>19</td>\n    </tr>\n    <tr>\n      <th>3</th>\n      <td>1</td>\n      <td>2011/2012</td>\n      <td>8635</td>\n      <td>RSC Anderlecht</td>\n      <td>20</td>\n    </tr>\n    <tr>\n      <th>4</th>\n      <td>1</td>\n      <td>2012/2013</td>\n      <td>8635</td>\n      <td>RSC Anderlecht</td>\n      <td>20</td>\n    </tr>\n    <tr>\n      <th>5</th>\n      <td>1</td>\n      <td>2014/2015</td>\n      <td>8342</td>\n      <td>Club Brugge KV</td>\n      <td>17</td>\n    </tr>\n    <tr>\n      <th>6</th>\n      <td>1</td>\n      <td>2015/2016</td>\n      <td>8342</td>\n      <td>Club Brugge KV</td>\n      <td>21</td>\n    </tr>\n    <tr>\n      <th>7</th>\n      <td>1729</td>\n      <td>2008/2009</td>\n      <td>10260</td>\n      <td>Manchester United</td>\n      <td>28</td>\n    </tr>\n    <tr>\n      <th>8</th>\n      <td>1729</td>\n      <td>2009/2010</td>\n      <td>8455</td>\n      <td>Chelsea</td>\n      <td>27</td>\n    </tr>\n    <tr>\n      <th>9</th>\n      <td>1729</td>\n      <td>2010/2011</td>\n      <td>10260</td>\n      <td>Manchester United</td>\n      <td>23</td>\n    </tr>\n    <tr>\n      <th>10</th>\n      <td>1729</td>\n      <td>2011/2012</td>\n      <td>8456</td>\n      <td>Manchester City</td>\n      <td>28</td>\n    </tr>\n    <tr>\n      <th>11</th>\n      <td>1729</td>\n      <td>2012/2013</td>\n      <td>10260</td>\n      <td>Manchester United</td>\n      <td>28</td>\n    </tr>\n    <tr>\n      <th>12</th>\n      <td>1729</td>\n      <td>2013/2014</td>\n      <td>8456</td>\n      <td>Manchester City</td>\n      <td>27</td>\n    </tr>\n    <tr>\n      <th>13</th>\n      <td>1729</td>\n      <td>2014/2015</td>\n      <td>8455</td>\n      <td>Chelsea</td>\n      <td>26</td>\n    </tr>\n    <tr>\n      <th>14</th>\n      <td>1729</td>\n      <td>2015/2016</td>\n      <td>8197</td>\n      <td>Leicester City</td>\n      <td>23</td>\n    </tr>\n    <tr>\n      <th>15</th>\n      <td>4769</td>\n      <td>2008/2009</td>\n      <td>9827</td>\n      <td>Girondins de Bordeaux</td>\n      <td>24</td>\n    </tr>\n    <tr>\n      <th>16</th>\n      <td>4769</td>\n      <td>2009/2010</td>\n      <td>8592</td>\n      <td>Olympique de Marseille</td>\n      <td>23</td>\n    </tr>\n    <tr>\n      <th>17</th>\n      <td>4769</td>\n      <td>2010/2011</td>\n      <td>8639</td>\n      <td>LOSC Lille</td>\n      <td>21</td>\n    </tr>\n  </tbody>\n</table>\n</div>"
     },
     "execution_count": 3,
     "metadata": {},
     "output_type": "execute_result"
    }
   ],
   "source": [
    "league_season_winners.head(18)"
   ]
  },
  {
   "cell_type": "code",
   "execution_count": 4,
   "id": "ec274159-ac5a-4aaa-9389-7f6f6a1e415b",
   "metadata": {},
   "outputs": [
    {
     "data": {
      "text/plain": "'|    |   league_id | season    |   team_api_id | team_long_name   |   wins |\\n|---:|------------:|:----------|--------------:|:-----------------|-------:|\\n|  1 |           1 | 2009/2010 |          8635 | RSC Anderlecht   |     22 |\\n| 77 |       21518 | 2014/2015 |          8633 | Real Madrid CF   |     30 |\\n| 23 |        7809 | 2008/2009 |          8721 | VfL Wolfsburg    |     21 |\\n|  3 |           1 | 2011/2012 |          8635 | RSC Anderlecht   |     20 |\\n| 76 |       21518 | 2013/2014 |          9906 | Atlético Madrid  |     28 |'"
     },
     "execution_count": 4,
     "metadata": {},
     "output_type": "execute_result"
    }
   ],
   "source": [
    "winners_md = league_season_winners.sample(5).to_markdown()\n",
    "winners_md"
   ]
  },
  {
   "cell_type": "code",
   "execution_count": null,
   "outputs": [],
   "source": [
    "home_player_cols = [f'home_player_{i}' for i in range(1,12)]\n",
    "away_player_cols = [f'away_player_{i}' for i in range(1,12)]\n",
    "\n",
    "match['home_players'] = match[home_player_cols].agg(list, axis=1)\n",
    "match['away_players'] = match[away_player_cols].agg(list, axis=1)"
   ],
   "metadata": {
    "collapsed": false,
    "pycharm": {
     "name": "#%%\n"
    }
   }
  },
  {
   "cell_type": "code",
   "execution_count": 26,
   "outputs": [
    {
     "data": {
      "text/plain": "        id  league_id     season  stage                 date  match_api_id  \\\n1728  1729       1729  2008/2009      1  2008-08-17 00:00:00        489042   \n1729  1730       1729  2008/2009      1  2008-08-16 00:00:00        489043   \n1730  1731       1729  2008/2009      1  2008-08-16 00:00:00        489044   \n1731  1732       1729  2008/2009      1  2008-08-16 00:00:00        489045   \n1732  1733       1729  2008/2009      1  2008-08-17 00:00:00        489046   \n\n      home_team_api_id  away_team_api_id  home_team_goal  away_team_goal  \\\n1728             10260             10261               1               1   \n1729              9825              8659               1               0   \n1730              8472              8650               0               1   \n1731              8654              8528               2               1   \n1732             10252              8456               4               2   \n\n                                                   goal  \\\n1728  <goal><value><comment>n</comment><stats><goals...   \n1729  <goal><value><comment>n</comment><stats><goals...   \n1730  <goal><value><comment>n</comment><stats><goals...   \n1731  <goal><value><comment>n</comment><stats><goals...   \n1732  <goal><value><comment>n</comment><stats><goals...   \n\n                                                   card  \\\n1728  <card><value><comment>y</comment><stats><ycard...   \n1729                                           <card />   \n1730  <card><value><comment>y</comment><stats><ycard...   \n1731  <card><value><comment>y</comment><stats><ycard...   \n1732  <card><value><comment>y</comment><stats><ycard...   \n\n                                           home_players  \\\n1728  [30726.0, 30362.0, 30620.0, 30865.0, 32569.0, ...   \n1729  [23686.0, 26111.0, 38835.0, 30986.0, 31291.0, ...   \n1730  [32562.0, 38836.0, 24446.0, 24408.0, 36786.0, ...   \n1731  [36374.0, 30966.0, 23818.0, 37277.0, 30687.0, ...   \n1732  [30380.0, 30357.0, 24658.0, 43280.0, 23282.0, ...   \n\n                                           away_players  \n1728  [24224.0, 25518.0, 24228.0, 30929.0, 29581.0, ...  \n1729  [36373.0, 36832.0, 23115.0, 37280.0, 24728.0, ...  \n1730  [30660.0, 37442.0, 30617.0, 24134.0, 414792.0,...  \n1731  [34421.0, 34987.0, 35472.0, 111865.0, 25005.0,...  \n1732  [31432.0, 46403.0, 24208.0, 23939.0, 33963.0, ...  ",
      "text/html": "<div>\n<style scoped>\n    .dataframe tbody tr th:only-of-type {\n        vertical-align: middle;\n    }\n\n    .dataframe tbody tr th {\n        vertical-align: top;\n    }\n\n    .dataframe thead th {\n        text-align: right;\n    }\n</style>\n<table border=\"1\" class=\"dataframe\">\n  <thead>\n    <tr style=\"text-align: right;\">\n      <th></th>\n      <th>id</th>\n      <th>league_id</th>\n      <th>season</th>\n      <th>stage</th>\n      <th>date</th>\n      <th>match_api_id</th>\n      <th>home_team_api_id</th>\n      <th>away_team_api_id</th>\n      <th>home_team_goal</th>\n      <th>away_team_goal</th>\n      <th>goal</th>\n      <th>card</th>\n      <th>home_players</th>\n      <th>away_players</th>\n    </tr>\n  </thead>\n  <tbody>\n    <tr>\n      <th>1728</th>\n      <td>1729</td>\n      <td>1729</td>\n      <td>2008/2009</td>\n      <td>1</td>\n      <td>2008-08-17 00:00:00</td>\n      <td>489042</td>\n      <td>10260</td>\n      <td>10261</td>\n      <td>1</td>\n      <td>1</td>\n      <td>&lt;goal&gt;&lt;value&gt;&lt;comment&gt;n&lt;/comment&gt;&lt;stats&gt;&lt;goals...</td>\n      <td>&lt;card&gt;&lt;value&gt;&lt;comment&gt;y&lt;/comment&gt;&lt;stats&gt;&lt;ycard...</td>\n      <td>[30726.0, 30362.0, 30620.0, 30865.0, 32569.0, ...</td>\n      <td>[24224.0, 25518.0, 24228.0, 30929.0, 29581.0, ...</td>\n    </tr>\n    <tr>\n      <th>1729</th>\n      <td>1730</td>\n      <td>1729</td>\n      <td>2008/2009</td>\n      <td>1</td>\n      <td>2008-08-16 00:00:00</td>\n      <td>489043</td>\n      <td>9825</td>\n      <td>8659</td>\n      <td>1</td>\n      <td>0</td>\n      <td>&lt;goal&gt;&lt;value&gt;&lt;comment&gt;n&lt;/comment&gt;&lt;stats&gt;&lt;goals...</td>\n      <td>&lt;card /&gt;</td>\n      <td>[23686.0, 26111.0, 38835.0, 30986.0, 31291.0, ...</td>\n      <td>[36373.0, 36832.0, 23115.0, 37280.0, 24728.0, ...</td>\n    </tr>\n    <tr>\n      <th>1730</th>\n      <td>1731</td>\n      <td>1729</td>\n      <td>2008/2009</td>\n      <td>1</td>\n      <td>2008-08-16 00:00:00</td>\n      <td>489044</td>\n      <td>8472</td>\n      <td>8650</td>\n      <td>0</td>\n      <td>1</td>\n      <td>&lt;goal&gt;&lt;value&gt;&lt;comment&gt;n&lt;/comment&gt;&lt;stats&gt;&lt;goals...</td>\n      <td>&lt;card&gt;&lt;value&gt;&lt;comment&gt;y&lt;/comment&gt;&lt;stats&gt;&lt;ycard...</td>\n      <td>[32562.0, 38836.0, 24446.0, 24408.0, 36786.0, ...</td>\n      <td>[30660.0, 37442.0, 30617.0, 24134.0, 414792.0,...</td>\n    </tr>\n    <tr>\n      <th>1731</th>\n      <td>1732</td>\n      <td>1729</td>\n      <td>2008/2009</td>\n      <td>1</td>\n      <td>2008-08-16 00:00:00</td>\n      <td>489045</td>\n      <td>8654</td>\n      <td>8528</td>\n      <td>2</td>\n      <td>1</td>\n      <td>&lt;goal&gt;&lt;value&gt;&lt;comment&gt;n&lt;/comment&gt;&lt;stats&gt;&lt;goals...</td>\n      <td>&lt;card&gt;&lt;value&gt;&lt;comment&gt;y&lt;/comment&gt;&lt;stats&gt;&lt;ycard...</td>\n      <td>[36374.0, 30966.0, 23818.0, 37277.0, 30687.0, ...</td>\n      <td>[34421.0, 34987.0, 35472.0, 111865.0, 25005.0,...</td>\n    </tr>\n    <tr>\n      <th>1732</th>\n      <td>1733</td>\n      <td>1729</td>\n      <td>2008/2009</td>\n      <td>1</td>\n      <td>2008-08-17 00:00:00</td>\n      <td>489046</td>\n      <td>10252</td>\n      <td>8456</td>\n      <td>4</td>\n      <td>2</td>\n      <td>&lt;goal&gt;&lt;value&gt;&lt;comment&gt;n&lt;/comment&gt;&lt;stats&gt;&lt;goals...</td>\n      <td>&lt;card&gt;&lt;value&gt;&lt;comment&gt;y&lt;/comment&gt;&lt;stats&gt;&lt;ycard...</td>\n      <td>[30380.0, 30357.0, 24658.0, 43280.0, 23282.0, ...</td>\n      <td>[31432.0, 46403.0, 24208.0, 23939.0, 33963.0, ...</td>\n    </tr>\n  </tbody>\n</table>\n</div>"
     },
     "execution_count": 26,
     "metadata": {},
     "output_type": "execute_result"
    }
   ],
   "source": [
    "match = match[['id', 'league_id', 'season', 'stage', 'date', 'match_api_id', 'home_team_api_id', 'away_team_api_id',\n",
    "               'home_team_goal', 'away_team_goal', 'goal', 'card', 'home_players', 'away_players']].dropna()\n",
    "\n",
    "match.head(5)"
   ],
   "metadata": {
    "collapsed": false,
    "pycharm": {
     "name": "#%%\n"
    }
   }
  },
  {
   "cell_type": "code",
   "execution_count": 45,
   "outputs": [],
   "source": [
    "def unique_players(series):\n",
    "    players = []\n",
    "    for entry in series:\n",
    "        players.extend(entry)\n",
    "\n",
    "    return list(set(players))"
   ],
   "metadata": {
    "collapsed": false,
    "pycharm": {
     "name": "#%%\n"
    }
   }
  },
  {
   "cell_type": "code",
   "execution_count": 48,
   "outputs": [],
   "source": [
    "players_per_team_per_season = {}\n",
    "\n",
    "teams = match.home_team_api_id.append(match.away_team_api_id, ignore_index=True).unique()\n",
    "\n",
    "for team in teams:\n",
    "    players_per_team_per_season[team] = {}\n",
    "    temp = match[match.away_team_api_id == team]\n",
    "    for season, df in temp.groupby('season'):\n",
    "        players_per_team_per_season[team][season] = unique_players(df.away_players)\n",
    "\n",
    "    temp = match[match.away_team_api_id == team]\n",
    "    for season,df in temp.groupby('season'):\n",
    "        players_per_team_per_season[team][season].extend(unique_players(df.away_players))\n",
    "        players_per_team_per_season[team][season] = list(set(players_per_team_per_season[team][season]))"
   ],
   "metadata": {
    "collapsed": false,
    "pycharm": {
     "name": "#%%\n"
    }
   }
  },
  {
   "cell_type": "code",
   "execution_count": 44,
   "outputs": [
    {
     "name": "stdout",
     "output_type": "stream",
     "text": [
      "[24224.0, 25518.0, 24228.0, 30929.0, 29581.0, 38807.0, 40565.0, 30360.0, 33852.0, 34574.0, 37799.0]\n"
     ]
    }
   ],
   "source": [
    "for s in match.away_players:\n",
    "    print(s)\n",
    "    break"
   ],
   "metadata": {
    "collapsed": false,
    "pycharm": {
     "name": "#%%\n"
    }
   }
  },
  {
   "cell_type": "code",
   "execution_count": 14,
   "outputs": [
    {
     "name": "stdout",
     "output_type": "stream",
     "text": [
      "id\n",
      "country_id\n",
      "league_id\n",
      "season\n",
      "stage\n",
      "date\n",
      "match_api_id\n",
      "home_team_api_id\n",
      "away_team_api_id\n",
      "home_team_goal\n",
      "away_team_goal\n",
      "home_player_X1\n",
      "home_player_X2\n",
      "home_player_X3\n",
      "home_player_X4\n",
      "home_player_X5\n",
      "home_player_X6\n",
      "home_player_X7\n",
      "home_player_X8\n",
      "home_player_X9\n",
      "home_player_X10\n",
      "home_player_X11\n",
      "away_player_X1\n",
      "away_player_X2\n",
      "away_player_X3\n",
      "away_player_X4\n",
      "away_player_X5\n",
      "away_player_X6\n",
      "away_player_X7\n",
      "away_player_X8\n",
      "away_player_X9\n",
      "away_player_X10\n",
      "away_player_X11\n",
      "home_player_Y1\n",
      "home_player_Y2\n",
      "home_player_Y3\n",
      "home_player_Y4\n",
      "home_player_Y5\n",
      "home_player_Y6\n",
      "home_player_Y7\n",
      "home_player_Y8\n",
      "home_player_Y9\n",
      "home_player_Y10\n",
      "home_player_Y11\n",
      "away_player_Y1\n",
      "away_player_Y2\n",
      "away_player_Y3\n",
      "away_player_Y4\n",
      "away_player_Y5\n",
      "away_player_Y6\n",
      "away_player_Y7\n",
      "away_player_Y8\n",
      "away_player_Y9\n",
      "away_player_Y10\n",
      "away_player_Y11\n",
      "home_player_1\n",
      "home_player_2\n",
      "home_player_3\n",
      "home_player_4\n",
      "home_player_5\n",
      "home_player_6\n",
      "home_player_7\n",
      "home_player_8\n",
      "home_player_9\n",
      "home_player_10\n",
      "home_player_11\n",
      "away_player_1\n",
      "away_player_2\n",
      "away_player_3\n",
      "away_player_4\n",
      "away_player_5\n",
      "away_player_6\n",
      "away_player_7\n",
      "away_player_8\n",
      "away_player_9\n",
      "away_player_10\n",
      "away_player_11\n",
      "goal\n",
      "shoton\n",
      "shotoff\n",
      "foulcommit\n",
      "card\n",
      "cross\n",
      "corner\n",
      "possession\n",
      "B365H\n",
      "B365D\n",
      "B365A\n",
      "BWH\n",
      "BWD\n",
      "BWA\n",
      "IWH\n",
      "IWD\n",
      "IWA\n",
      "LBH\n",
      "LBD\n",
      "LBA\n",
      "PSH\n",
      "PSD\n",
      "PSA\n",
      "WHH\n",
      "WHD\n",
      "WHA\n",
      "SJH\n",
      "SJD\n",
      "SJA\n",
      "VCH\n",
      "VCD\n",
      "VCA\n",
      "GBH\n",
      "GBD\n",
      "GBA\n",
      "BSH\n",
      "BSD\n",
      "BSA\n",
      "home_players\n",
      "away_players\n"
     ]
    }
   ],
   "source": [
    "for x in match.columns:\n",
    "    print(x)"
   ],
   "metadata": {
    "collapsed": false,
    "pycharm": {
     "name": "#%%\n"
    }
   }
  },
  {
   "cell_type": "code",
   "execution_count": 51,
   "outputs": [
    {
     "data": {
      "text/plain": "       index                                              10260  \\\n0  2008/2009  [34944.0, 40961.0, 30726.0, 67850.0, 30865.0, ...   \n1  2009/2010  [34944.0, 40961.0, 30726.0, 67850.0, 30865.0, ...   \n2  2010/2011  [34944.0, 40961.0, 30726.0, 70409.0, 30865.0, ...   \n3  2011/2012  [34944.0, 40961.0, 182917.0, 70409.0, 30865.0,...   \n4  2012/2013  [34944.0, 40961.0, 182917.0, 70409.0, 30865.0,...   \n5  2013/2014  [34944.0, 182917.0, 70409.0, 30865.0, 186137.0...   \n6  2014/2015  [34944.0, 182917.0, 161035.0, 22543.0, 32657.0...   \n7  2015/2016  [34944.0, 109060.0, 182917.0, 161035.0, 693138...   \n\n                                                9825  \\\n0  [39297.0, 23686.0, 30986.0, 27277.0, 30613.0, ...   \n1  [39297.0, 23686.0, 27277.0, 187668.0, 26005.0,...   \n2  [39297.0, 23686.0, 30986.0, 27277.0, 33812.0, ...   \n3  [30986.0, 26005.0, 35606.0, 214685.0, 63520.0,...   \n4  [46469.0, 27277.0, 26005.0, 35606.0, 214685.0,...   \n5  [46469.0, 23688.0, 26005.0, 35606.0, 36378.0, ...   \n6  [46469.0, 23688.0, 50065.0, 35606.0, 192921.0,...   \n7  [46469.0, 23688.0, 30859.0, 50065.0, 35606.0, ...   \n\n                                                8472  \\\n0  [nan, nan, nan, 23939.0, nan, nan, nan, nan, n...   \n1  [30988.0, 23949.0, 30352.0, 38802.0, 23073.0, ...   \n2  [31104.0, 131583.0, 23949.0, 30352.0, 24209.0,...   \n3  [24064.0, 242308.0, 30352.0, 30362.0, 23073.0,...   \n4  [30352.0, 46353.0, 23073.0, 24230.0, 36786.0, ...   \n5  [24064.0, 242308.0, 70297.0, 30362.0, 39331.0,...   \n6  [109058.0, 103428.0, 30348.0, 50189.0, 118929....   \n7  [109058.0, 166019.0, 103428.0, 30348.0, 118929...   \n\n                                                8654  \\\n0  [nan, nan, nan, nan, nan, 23818.0, 30734.0, 27...   \n1  [41475.0, 34947.0, 23818.0, 39306.0, 30353.0, ...   \n2  [24450.0, 23939.0, 23818.0, 30734.0, 26256.0, ...   \n3                                                NaN   \n4  [23936.0, 295060.0, 47382.0, 30630.0, 35110.0,...   \n5  [23936.0, 34193.0, 47382.0, 40220.0, 169756.0,...   \n6  [23936.0, nan, 192899.0, 155782.0, 570760.0, 4...   \n7  [nan, 192899.0, 155782.0, 49543.0, 37780.0, 47...   \n\n                                               10252  \\\n0  [23264.0, 40128.0, 34466.0, 23782.0, 33863.0, ...   \n1  [24211.0, 30357.0, 38807.0, 34466.0, 30380.0, ...   \n2  [161414.0, 161415.0, 23949.0, 189074.0, 24211....   \n3  [161414.0, 161415.0, 282251.0, 23949.0, 29581....   \n4  [161414.0, 149895.0, 141576.0, 161415.0, 30602...   \n5  [150401.0, 161414.0, 149895.0, 30602.0, 69650....   \n6  [161414.0, 30602.0, 56972.0, 29581.0, 30352.0,...   \n7  [150401.0, 24579.0, 161414.0, 56972.0, 24208.0...   \n\n                                                8668  \\\n0  [109058.0, 24846.0, 30735.0, 26256.0, 30876.0,...   \n1  [109058.0, 24846.0, 30735.0, 24216.0, 30876.0,...   \n2  [109058.0, 24846.0, 30735.0, 24216.0, 30876.0,...   \n3  [109058.0, 24846.0, 30735.0, 24216.0, 30876.0,...   \n4  [32705.0, 39618.0, 30371.0, 30628.0, 23268.0, ...   \n5  [24846.0, 251925.0, 24216.0, 181276.0, 26151.0...   \n6  [212866.0, 24846.0, 316688.0, 24216.0, 191132....   \n7  [212866.0, 24846.0, 316688.0, 251925.0, 181276...   \n\n                                                8549  \\\n0  [97932.0, 35608.0, 30892.0, 24753.0, 23352.0, ...   \n1                                                NaN   \n2                                                NaN   \n3                                                NaN   \n4                                                NaN   \n5                                                NaN   \n6                                                NaN   \n7                                                NaN   \n\n                                                8559  \\\n0  [23937.0, 26244.0, 24336.0, 24372.0, 11576.0, ...   \n1  [23937.0, 24336.0, 24728.0, 30753.0, 143793.0,...   \n2  [23937.0, 24455.0, 24336.0, 24728.0, 34430.0, ...   \n3  [191616.0, 23937.0, 33048.0, 24728.0, 30753.0,...   \n4                                                NaN   \n5                                                NaN   \n6                                                NaN   \n7                                                NaN   \n\n                                                8667  ...  \\\n0  [30595.0, 34437.0, 23946.0, 23438.0, 26143.0, ...  ...   \n1  [30595.0, 34437.0, 23563.0, 24843.0, 23438.0, ...  ...   \n2                                                NaN  ...   \n3                                                NaN  ...   \n4                                                NaN  ...   \n5  [163200.0, 42247.0, 35480.0, 23839.0, 24227.0,...  ...   \n6  [163200.0, 42247.0, 35480.0, 190872.0, 23839.0...  ...   \n7                                                NaN  ...   \n\n                                               10179  \\\n0                                                NaN   \n1                                                NaN   \n2                                                NaN   \n3                                                NaN   \n4                                                NaN   \n5                                                NaN   \n6                                                NaN   \n7  [nan, 451335.0, 10637.0, 67349.0, 535957.0, 48...   \n\n                                                9824  \\\n0                                                NaN   \n1                                                NaN   \n2                                                NaN   \n3                                                NaN   \n4                                                NaN   \n5                                                NaN   \n6                                                NaN   \n7  [37257.0, 358156.0, 41621.0, 154261.0, 56868.0...   \n\n                                               10192  \\\n0                                                NaN   \n1                                                NaN   \n2                                                NaN   \n3                                                NaN   \n4                                                NaN   \n5                                                NaN   \n6                                                NaN   \n7  [493185.0, 25860.0, 119702.0, 108451.0, 176680...   \n\n                                                7896  \\\n0                                                NaN   \n1                                                NaN   \n2                                                NaN   \n3                                                NaN   \n4                                                NaN   \n5                                                NaN   \n6                                                NaN   \n7  [406283.0, 429986.0, 114212.0, 408104.0, 28228...   \n\n                                               10199  \\\n0                                                NaN   \n1                                                NaN   \n2                                                NaN   \n3                                                NaN   \n4                                                NaN   \n5                                                NaN   \n6                                                NaN   \n7  [638593.0, 141704.0, 95257.0, 36382.0, 34082.0...   \n\n                                               10190  \\\n0                                                NaN   \n1                                                NaN   \n2                                                NaN   \n3                                                NaN   \n4                                                NaN   \n5                                                NaN   \n6                                                NaN   \n7  [638592.0, 566785.0, 210423.0, 67333.0, 278917...   \n\n                                               10191  \\\n0                                                NaN   \n1                                                NaN   \n2                                                NaN   \n3                                                NaN   \n4                                                NaN   \n5                                                NaN   \n6                                                NaN   \n7  [133126.0, 42257.0, 464665.0, 186524.0, 659742...   \n\n                                               10243  \\\n0                                                NaN   \n1                                                NaN   \n2                                                NaN   \n3                                                NaN   \n4                                                NaN   \n5                                                NaN   \n6                                                NaN   \n7  [520450.0, 661509.0, 451982.0, 462608.0, 42262...   \n\n                                                2183  \\\n0                                                NaN   \n1                                                NaN   \n2                                                NaN   \n3  [nan, 114817.0, 163618.0, 13449.0, 13551.0, 68...   \n4                                                NaN   \n5                                                NaN   \n6                                                NaN   \n7                                                NaN   \n\n                                                8673  \n0                                                NaN  \n1                                                NaN  \n2                                                NaN  \n3  [13376.0, nan, 69601.0, nan, nan, nan, nan, na...  \n4                                                NaN  \n5                                                NaN  \n6                                                NaN  \n7                                                NaN  \n\n[8 rows x 203 columns]",
      "text/html": "<div>\n<style scoped>\n    .dataframe tbody tr th:only-of-type {\n        vertical-align: middle;\n    }\n\n    .dataframe tbody tr th {\n        vertical-align: top;\n    }\n\n    .dataframe thead th {\n        text-align: right;\n    }\n</style>\n<table border=\"1\" class=\"dataframe\">\n  <thead>\n    <tr style=\"text-align: right;\">\n      <th></th>\n      <th>index</th>\n      <th>10260</th>\n      <th>9825</th>\n      <th>8472</th>\n      <th>8654</th>\n      <th>10252</th>\n      <th>8668</th>\n      <th>8549</th>\n      <th>8559</th>\n      <th>8667</th>\n      <th>...</th>\n      <th>10179</th>\n      <th>9824</th>\n      <th>10192</th>\n      <th>7896</th>\n      <th>10199</th>\n      <th>10190</th>\n      <th>10191</th>\n      <th>10243</th>\n      <th>2183</th>\n      <th>8673</th>\n    </tr>\n  </thead>\n  <tbody>\n    <tr>\n      <th>0</th>\n      <td>2008/2009</td>\n      <td>[34944.0, 40961.0, 30726.0, 67850.0, 30865.0, ...</td>\n      <td>[39297.0, 23686.0, 30986.0, 27277.0, 30613.0, ...</td>\n      <td>[nan, nan, nan, 23939.0, nan, nan, nan, nan, n...</td>\n      <td>[nan, nan, nan, nan, nan, 23818.0, 30734.0, 27...</td>\n      <td>[23264.0, 40128.0, 34466.0, 23782.0, 33863.0, ...</td>\n      <td>[109058.0, 24846.0, 30735.0, 26256.0, 30876.0,...</td>\n      <td>[97932.0, 35608.0, 30892.0, 24753.0, 23352.0, ...</td>\n      <td>[23937.0, 26244.0, 24336.0, 24372.0, 11576.0, ...</td>\n      <td>[30595.0, 34437.0, 23946.0, 23438.0, 26143.0, ...</td>\n      <td>...</td>\n      <td>NaN</td>\n      <td>NaN</td>\n      <td>NaN</td>\n      <td>NaN</td>\n      <td>NaN</td>\n      <td>NaN</td>\n      <td>NaN</td>\n      <td>NaN</td>\n      <td>NaN</td>\n      <td>NaN</td>\n    </tr>\n    <tr>\n      <th>1</th>\n      <td>2009/2010</td>\n      <td>[34944.0, 40961.0, 30726.0, 67850.0, 30865.0, ...</td>\n      <td>[39297.0, 23686.0, 27277.0, 187668.0, 26005.0,...</td>\n      <td>[30988.0, 23949.0, 30352.0, 38802.0, 23073.0, ...</td>\n      <td>[41475.0, 34947.0, 23818.0, 39306.0, 30353.0, ...</td>\n      <td>[24211.0, 30357.0, 38807.0, 34466.0, 30380.0, ...</td>\n      <td>[109058.0, 24846.0, 30735.0, 24216.0, 30876.0,...</td>\n      <td>NaN</td>\n      <td>[23937.0, 24336.0, 24728.0, 30753.0, 143793.0,...</td>\n      <td>[30595.0, 34437.0, 23563.0, 24843.0, 23438.0, ...</td>\n      <td>...</td>\n      <td>NaN</td>\n      <td>NaN</td>\n      <td>NaN</td>\n      <td>NaN</td>\n      <td>NaN</td>\n      <td>NaN</td>\n      <td>NaN</td>\n      <td>NaN</td>\n      <td>NaN</td>\n      <td>NaN</td>\n    </tr>\n    <tr>\n      <th>2</th>\n      <td>2010/2011</td>\n      <td>[34944.0, 40961.0, 30726.0, 70409.0, 30865.0, ...</td>\n      <td>[39297.0, 23686.0, 30986.0, 27277.0, 33812.0, ...</td>\n      <td>[31104.0, 131583.0, 23949.0, 30352.0, 24209.0,...</td>\n      <td>[24450.0, 23939.0, 23818.0, 30734.0, 26256.0, ...</td>\n      <td>[161414.0, 161415.0, 23949.0, 189074.0, 24211....</td>\n      <td>[109058.0, 24846.0, 30735.0, 24216.0, 30876.0,...</td>\n      <td>NaN</td>\n      <td>[23937.0, 24455.0, 24336.0, 24728.0, 34430.0, ...</td>\n      <td>NaN</td>\n      <td>...</td>\n      <td>NaN</td>\n      <td>NaN</td>\n      <td>NaN</td>\n      <td>NaN</td>\n      <td>NaN</td>\n      <td>NaN</td>\n      <td>NaN</td>\n      <td>NaN</td>\n      <td>NaN</td>\n      <td>NaN</td>\n    </tr>\n    <tr>\n      <th>3</th>\n      <td>2011/2012</td>\n      <td>[34944.0, 40961.0, 182917.0, 70409.0, 30865.0,...</td>\n      <td>[30986.0, 26005.0, 35606.0, 214685.0, 63520.0,...</td>\n      <td>[24064.0, 242308.0, 30352.0, 30362.0, 23073.0,...</td>\n      <td>NaN</td>\n      <td>[161414.0, 161415.0, 282251.0, 23949.0, 29581....</td>\n      <td>[109058.0, 24846.0, 30735.0, 24216.0, 30876.0,...</td>\n      <td>NaN</td>\n      <td>[191616.0, 23937.0, 33048.0, 24728.0, 30753.0,...</td>\n      <td>NaN</td>\n      <td>...</td>\n      <td>NaN</td>\n      <td>NaN</td>\n      <td>NaN</td>\n      <td>NaN</td>\n      <td>NaN</td>\n      <td>NaN</td>\n      <td>NaN</td>\n      <td>NaN</td>\n      <td>[nan, 114817.0, 163618.0, 13449.0, 13551.0, 68...</td>\n      <td>[13376.0, nan, 69601.0, nan, nan, nan, nan, na...</td>\n    </tr>\n    <tr>\n      <th>4</th>\n      <td>2012/2013</td>\n      <td>[34944.0, 40961.0, 182917.0, 70409.0, 30865.0,...</td>\n      <td>[46469.0, 27277.0, 26005.0, 35606.0, 214685.0,...</td>\n      <td>[30352.0, 46353.0, 23073.0, 24230.0, 36786.0, ...</td>\n      <td>[23936.0, 295060.0, 47382.0, 30630.0, 35110.0,...</td>\n      <td>[161414.0, 149895.0, 141576.0, 161415.0, 30602...</td>\n      <td>[32705.0, 39618.0, 30371.0, 30628.0, 23268.0, ...</td>\n      <td>NaN</td>\n      <td>NaN</td>\n      <td>NaN</td>\n      <td>...</td>\n      <td>NaN</td>\n      <td>NaN</td>\n      <td>NaN</td>\n      <td>NaN</td>\n      <td>NaN</td>\n      <td>NaN</td>\n      <td>NaN</td>\n      <td>NaN</td>\n      <td>NaN</td>\n      <td>NaN</td>\n    </tr>\n    <tr>\n      <th>5</th>\n      <td>2013/2014</td>\n      <td>[34944.0, 182917.0, 70409.0, 30865.0, 186137.0...</td>\n      <td>[46469.0, 23688.0, 26005.0, 35606.0, 36378.0, ...</td>\n      <td>[24064.0, 242308.0, 70297.0, 30362.0, 39331.0,...</td>\n      <td>[23936.0, 34193.0, 47382.0, 40220.0, 169756.0,...</td>\n      <td>[150401.0, 161414.0, 149895.0, 30602.0, 69650....</td>\n      <td>[24846.0, 251925.0, 24216.0, 181276.0, 26151.0...</td>\n      <td>NaN</td>\n      <td>NaN</td>\n      <td>[163200.0, 42247.0, 35480.0, 23839.0, 24227.0,...</td>\n      <td>...</td>\n      <td>NaN</td>\n      <td>NaN</td>\n      <td>NaN</td>\n      <td>NaN</td>\n      <td>NaN</td>\n      <td>NaN</td>\n      <td>NaN</td>\n      <td>NaN</td>\n      <td>NaN</td>\n      <td>NaN</td>\n    </tr>\n    <tr>\n      <th>6</th>\n      <td>2014/2015</td>\n      <td>[34944.0, 182917.0, 161035.0, 22543.0, 32657.0...</td>\n      <td>[46469.0, 23688.0, 50065.0, 35606.0, 192921.0,...</td>\n      <td>[109058.0, 103428.0, 30348.0, 50189.0, 118929....</td>\n      <td>[23936.0, nan, 192899.0, 155782.0, 570760.0, 4...</td>\n      <td>[161414.0, 30602.0, 56972.0, 29581.0, 30352.0,...</td>\n      <td>[212866.0, 24846.0, 316688.0, 24216.0, 191132....</td>\n      <td>NaN</td>\n      <td>NaN</td>\n      <td>[163200.0, 42247.0, 35480.0, 190872.0, 23839.0...</td>\n      <td>...</td>\n      <td>NaN</td>\n      <td>NaN</td>\n      <td>NaN</td>\n      <td>NaN</td>\n      <td>NaN</td>\n      <td>NaN</td>\n      <td>NaN</td>\n      <td>NaN</td>\n      <td>NaN</td>\n      <td>NaN</td>\n    </tr>\n    <tr>\n      <th>7</th>\n      <td>2015/2016</td>\n      <td>[34944.0, 109060.0, 182917.0, 161035.0, 693138...</td>\n      <td>[46469.0, 23688.0, 30859.0, 50065.0, 35606.0, ...</td>\n      <td>[109058.0, 166019.0, 103428.0, 30348.0, 118929...</td>\n      <td>[nan, 192899.0, 155782.0, 49543.0, 37780.0, 47...</td>\n      <td>[150401.0, 24579.0, 161414.0, 56972.0, 24208.0...</td>\n      <td>[212866.0, 24846.0, 316688.0, 251925.0, 181276...</td>\n      <td>NaN</td>\n      <td>NaN</td>\n      <td>NaN</td>\n      <td>...</td>\n      <td>[nan, 451335.0, 10637.0, 67349.0, 535957.0, 48...</td>\n      <td>[37257.0, 358156.0, 41621.0, 154261.0, 56868.0...</td>\n      <td>[493185.0, 25860.0, 119702.0, 108451.0, 176680...</td>\n      <td>[406283.0, 429986.0, 114212.0, 408104.0, 28228...</td>\n      <td>[638593.0, 141704.0, 95257.0, 36382.0, 34082.0...</td>\n      <td>[638592.0, 566785.0, 210423.0, 67333.0, 278917...</td>\n      <td>[133126.0, 42257.0, 464665.0, 186524.0, 659742...</td>\n      <td>[520450.0, 661509.0, 451982.0, 462608.0, 42262...</td>\n      <td>NaN</td>\n      <td>NaN</td>\n    </tr>\n  </tbody>\n</table>\n<p>8 rows × 203 columns</p>\n</div>"
     },
     "execution_count": 51,
     "metadata": {},
     "output_type": "execute_result"
    }
   ],
   "source": [
    "players_per_team_df = pd.DataFrame(players_per_team_per_season).reset_index()"
   ],
   "metadata": {
    "collapsed": false,
    "pycharm": {
     "name": "#%%\n"
    }
   }
  },
  {
   "cell_type": "code",
   "execution_count": 54,
   "outputs": [
    {
     "ename": "KeyError",
     "evalue": "'index'",
     "output_type": "error",
     "traceback": [
      "\u001B[1;31m---------------------------------------------------------------------------\u001B[0m",
      "\u001B[1;31mKeyError\u001B[0m                                  Traceback (most recent call last)",
      "\u001B[1;32mC:\\ProgramData\\Anaconda3\\envs\\DeepLearning\\lib\\site-packages\\pandas\\core\\indexes\\base.py\u001B[0m in \u001B[0;36mget_loc\u001B[1;34m(self, key, method, tolerance)\u001B[0m\n\u001B[0;32m   3079\u001B[0m             \u001B[1;32mtry\u001B[0m\u001B[1;33m:\u001B[0m\u001B[1;33m\u001B[0m\u001B[1;33m\u001B[0m\u001B[0m\n\u001B[1;32m-> 3080\u001B[1;33m                 \u001B[1;32mreturn\u001B[0m \u001B[0mself\u001B[0m\u001B[1;33m.\u001B[0m\u001B[0m_engine\u001B[0m\u001B[1;33m.\u001B[0m\u001B[0mget_loc\u001B[0m\u001B[1;33m(\u001B[0m\u001B[0mcasted_key\u001B[0m\u001B[1;33m)\u001B[0m\u001B[1;33m\u001B[0m\u001B[1;33m\u001B[0m\u001B[0m\n\u001B[0m\u001B[0;32m   3081\u001B[0m             \u001B[1;32mexcept\u001B[0m \u001B[0mKeyError\u001B[0m \u001B[1;32mas\u001B[0m \u001B[0merr\u001B[0m\u001B[1;33m:\u001B[0m\u001B[1;33m\u001B[0m\u001B[1;33m\u001B[0m\u001B[0m\n",
      "\u001B[1;32mpandas\\_libs\\index.pyx\u001B[0m in \u001B[0;36mpandas._libs.index.IndexEngine.get_loc\u001B[1;34m()\u001B[0m\n",
      "\u001B[1;32mpandas\\_libs\\index.pyx\u001B[0m in \u001B[0;36mpandas._libs.index.IndexEngine.get_loc\u001B[1;34m()\u001B[0m\n",
      "\u001B[1;32mpandas\\_libs\\hashtable_class_helper.pxi\u001B[0m in \u001B[0;36mpandas._libs.hashtable.PyObjectHashTable.get_item\u001B[1;34m()\u001B[0m\n",
      "\u001B[1;32mpandas\\_libs\\hashtable_class_helper.pxi\u001B[0m in \u001B[0;36mpandas._libs.hashtable.PyObjectHashTable.get_item\u001B[1;34m()\u001B[0m\n",
      "\u001B[1;31mKeyError\u001B[0m: 'index'",
      "\nThe above exception was the direct cause of the following exception:\n",
      "\u001B[1;31mKeyError\u001B[0m                                  Traceback (most recent call last)",
      "\u001B[1;32m<ipython-input-54-c72e89d67dd4>\u001B[0m in \u001B[0;36m<module>\u001B[1;34m\u001B[0m\n\u001B[1;32m----> 1\u001B[1;33m \u001B[0mplayers_per_team_df\u001B[0m \u001B[1;33m=\u001B[0m \u001B[0mplayers_per_team_df\u001B[0m\u001B[1;33m.\u001B[0m\u001B[0mmelt\u001B[0m\u001B[1;33m(\u001B[0m\u001B[0mid_vars\u001B[0m\u001B[1;33m=\u001B[0m\u001B[1;34m'index'\u001B[0m\u001B[1;33m)\u001B[0m\u001B[1;33m\u001B[0m\u001B[1;33m\u001B[0m\u001B[0m\n\u001B[0m\u001B[0;32m      2\u001B[0m \u001B[0mplayers_per_team_df\u001B[0m\u001B[1;33m.\u001B[0m\u001B[0mcolumns\u001B[0m \u001B[1;33m=\u001B[0m \u001B[1;33m[\u001B[0m\u001B[1;34m'season'\u001B[0m\u001B[1;33m,\u001B[0m \u001B[1;34m'team_api_id'\u001B[0m\u001B[1;33m,\u001B[0m \u001B[1;34m'players'\u001B[0m\u001B[1;33m]\u001B[0m\u001B[1;33m\u001B[0m\u001B[1;33m\u001B[0m\u001B[0m\n\u001B[0;32m      3\u001B[0m \u001B[0mprint\u001B[0m\u001B[1;33m(\u001B[0m\u001B[0mplayers_per_team_df\u001B[0m\u001B[1;33m.\u001B[0m\u001B[0mshape\u001B[0m\u001B[1;33m)\u001B[0m\u001B[1;33m\u001B[0m\u001B[1;33m\u001B[0m\u001B[0m\n\u001B[0;32m      4\u001B[0m \u001B[0mplayers_per_team_df\u001B[0m\u001B[1;33m.\u001B[0m\u001B[0msample\u001B[0m\u001B[1;33m(\u001B[0m\u001B[1;36m5\u001B[0m\u001B[1;33m)\u001B[0m\u001B[1;33m\u001B[0m\u001B[1;33m\u001B[0m\u001B[0m\n",
      "\u001B[1;32mC:\\ProgramData\\Anaconda3\\envs\\DeepLearning\\lib\\site-packages\\pandas\\core\\frame.py\u001B[0m in \u001B[0;36mmelt\u001B[1;34m(self, id_vars, value_vars, var_name, value_name, col_level, ignore_index)\u001B[0m\n\u001B[0;32m   7372\u001B[0m             \u001B[0mvalue_name\u001B[0m\u001B[1;33m=\u001B[0m\u001B[0mvalue_name\u001B[0m\u001B[1;33m,\u001B[0m\u001B[1;33m\u001B[0m\u001B[1;33m\u001B[0m\u001B[0m\n\u001B[0;32m   7373\u001B[0m             \u001B[0mcol_level\u001B[0m\u001B[1;33m=\u001B[0m\u001B[0mcol_level\u001B[0m\u001B[1;33m,\u001B[0m\u001B[1;33m\u001B[0m\u001B[1;33m\u001B[0m\u001B[0m\n\u001B[1;32m-> 7374\u001B[1;33m             \u001B[0mignore_index\u001B[0m\u001B[1;33m=\u001B[0m\u001B[0mignore_index\u001B[0m\u001B[1;33m,\u001B[0m\u001B[1;33m\u001B[0m\u001B[1;33m\u001B[0m\u001B[0m\n\u001B[0m\u001B[0;32m   7375\u001B[0m         )\n\u001B[0;32m   7376\u001B[0m \u001B[1;33m\u001B[0m\u001B[0m\n",
      "\u001B[1;32mC:\\ProgramData\\Anaconda3\\envs\\DeepLearning\\lib\\site-packages\\pandas\\core\\reshape\\melt.py\u001B[0m in \u001B[0;36mmelt\u001B[1;34m(frame, id_vars, value_vars, var_name, value_name, col_level, ignore_index)\u001B[0m\n\u001B[0;32m    117\u001B[0m     \u001B[0mmdata\u001B[0m \u001B[1;33m=\u001B[0m \u001B[1;33m{\u001B[0m\u001B[1;33m}\u001B[0m\u001B[1;33m\u001B[0m\u001B[1;33m\u001B[0m\u001B[0m\n\u001B[0;32m    118\u001B[0m     \u001B[1;32mfor\u001B[0m \u001B[0mcol\u001B[0m \u001B[1;32min\u001B[0m \u001B[0mid_vars\u001B[0m\u001B[1;33m:\u001B[0m\u001B[1;33m\u001B[0m\u001B[1;33m\u001B[0m\u001B[0m\n\u001B[1;32m--> 119\u001B[1;33m         \u001B[0mid_data\u001B[0m \u001B[1;33m=\u001B[0m \u001B[0mframe\u001B[0m\u001B[1;33m.\u001B[0m\u001B[0mpop\u001B[0m\u001B[1;33m(\u001B[0m\u001B[0mcol\u001B[0m\u001B[1;33m)\u001B[0m\u001B[1;33m\u001B[0m\u001B[1;33m\u001B[0m\u001B[0m\n\u001B[0m\u001B[0;32m    120\u001B[0m         \u001B[1;32mif\u001B[0m \u001B[0mis_extension_array_dtype\u001B[0m\u001B[1;33m(\u001B[0m\u001B[0mid_data\u001B[0m\u001B[1;33m)\u001B[0m\u001B[1;33m:\u001B[0m\u001B[1;33m\u001B[0m\u001B[1;33m\u001B[0m\u001B[0m\n\u001B[0;32m    121\u001B[0m             \u001B[0mid_data\u001B[0m \u001B[1;33m=\u001B[0m \u001B[0mcast\u001B[0m\u001B[1;33m(\u001B[0m\u001B[1;34m\"Series\"\u001B[0m\u001B[1;33m,\u001B[0m \u001B[0mconcat\u001B[0m\u001B[1;33m(\u001B[0m\u001B[1;33m[\u001B[0m\u001B[0mid_data\u001B[0m\u001B[1;33m]\u001B[0m \u001B[1;33m*\u001B[0m \u001B[0mK\u001B[0m\u001B[1;33m,\u001B[0m \u001B[0mignore_index\u001B[0m\u001B[1;33m=\u001B[0m\u001B[1;32mTrue\u001B[0m\u001B[1;33m)\u001B[0m\u001B[1;33m)\u001B[0m\u001B[1;33m\u001B[0m\u001B[1;33m\u001B[0m\u001B[0m\n",
      "\u001B[1;32mC:\\ProgramData\\Anaconda3\\envs\\DeepLearning\\lib\\site-packages\\pandas\\core\\frame.py\u001B[0m in \u001B[0;36mpop\u001B[1;34m(self, item)\u001B[0m\n\u001B[0;32m   4510\u001B[0m         \u001B[1;36m3\u001B[0m  \u001B[0mmonkey\u001B[0m        \u001B[0mNaN\u001B[0m\u001B[1;33m\u001B[0m\u001B[1;33m\u001B[0m\u001B[0m\n\u001B[0;32m   4511\u001B[0m         \"\"\"\n\u001B[1;32m-> 4512\u001B[1;33m         \u001B[1;32mreturn\u001B[0m \u001B[0msuper\u001B[0m\u001B[1;33m(\u001B[0m\u001B[1;33m)\u001B[0m\u001B[1;33m.\u001B[0m\u001B[0mpop\u001B[0m\u001B[1;33m(\u001B[0m\u001B[0mitem\u001B[0m\u001B[1;33m=\u001B[0m\u001B[0mitem\u001B[0m\u001B[1;33m)\u001B[0m\u001B[1;33m\u001B[0m\u001B[1;33m\u001B[0m\u001B[0m\n\u001B[0m\u001B[0;32m   4513\u001B[0m \u001B[1;33m\u001B[0m\u001B[0m\n\u001B[0;32m   4514\u001B[0m     \u001B[1;33m@\u001B[0m\u001B[0mdoc\u001B[0m\u001B[1;33m(\u001B[0m\u001B[0mNDFrame\u001B[0m\u001B[1;33m.\u001B[0m\u001B[0mreplace\u001B[0m\u001B[1;33m,\u001B[0m \u001B[1;33m**\u001B[0m\u001B[0m_shared_doc_kwargs\u001B[0m\u001B[1;33m)\u001B[0m\u001B[1;33m\u001B[0m\u001B[1;33m\u001B[0m\u001B[0m\n",
      "\u001B[1;32mC:\\ProgramData\\Anaconda3\\envs\\DeepLearning\\lib\\site-packages\\pandas\\core\\generic.py\u001B[0m in \u001B[0;36mpop\u001B[1;34m(self, item)\u001B[0m\n\u001B[0;32m    767\u001B[0m \u001B[1;33m\u001B[0m\u001B[0m\n\u001B[0;32m    768\u001B[0m     \u001B[1;32mdef\u001B[0m \u001B[0mpop\u001B[0m\u001B[1;33m(\u001B[0m\u001B[0mself\u001B[0m\u001B[1;33m,\u001B[0m \u001B[0mitem\u001B[0m\u001B[1;33m:\u001B[0m \u001B[0mLabel\u001B[0m\u001B[1;33m)\u001B[0m \u001B[1;33m->\u001B[0m \u001B[0mUnion\u001B[0m\u001B[1;33m[\u001B[0m\u001B[0mSeries\u001B[0m\u001B[1;33m,\u001B[0m \u001B[0mAny\u001B[0m\u001B[1;33m]\u001B[0m\u001B[1;33m:\u001B[0m\u001B[1;33m\u001B[0m\u001B[1;33m\u001B[0m\u001B[0m\n\u001B[1;32m--> 769\u001B[1;33m         \u001B[0mresult\u001B[0m \u001B[1;33m=\u001B[0m \u001B[0mself\u001B[0m\u001B[1;33m[\u001B[0m\u001B[0mitem\u001B[0m\u001B[1;33m]\u001B[0m\u001B[1;33m\u001B[0m\u001B[1;33m\u001B[0m\u001B[0m\n\u001B[0m\u001B[0;32m    770\u001B[0m         \u001B[1;32mdel\u001B[0m \u001B[0mself\u001B[0m\u001B[1;33m[\u001B[0m\u001B[0mitem\u001B[0m\u001B[1;33m]\u001B[0m\u001B[1;33m\u001B[0m\u001B[1;33m\u001B[0m\u001B[0m\n\u001B[0;32m    771\u001B[0m         \u001B[1;32mif\u001B[0m \u001B[0mself\u001B[0m\u001B[1;33m.\u001B[0m\u001B[0mndim\u001B[0m \u001B[1;33m==\u001B[0m \u001B[1;36m2\u001B[0m\u001B[1;33m:\u001B[0m\u001B[1;33m\u001B[0m\u001B[1;33m\u001B[0m\u001B[0m\n",
      "\u001B[1;32mC:\\ProgramData\\Anaconda3\\envs\\DeepLearning\\lib\\site-packages\\pandas\\core\\frame.py\u001B[0m in \u001B[0;36m__getitem__\u001B[1;34m(self, key)\u001B[0m\n\u001B[0;32m   3022\u001B[0m             \u001B[1;32mif\u001B[0m \u001B[0mself\u001B[0m\u001B[1;33m.\u001B[0m\u001B[0mcolumns\u001B[0m\u001B[1;33m.\u001B[0m\u001B[0mnlevels\u001B[0m \u001B[1;33m>\u001B[0m \u001B[1;36m1\u001B[0m\u001B[1;33m:\u001B[0m\u001B[1;33m\u001B[0m\u001B[1;33m\u001B[0m\u001B[0m\n\u001B[0;32m   3023\u001B[0m                 \u001B[1;32mreturn\u001B[0m \u001B[0mself\u001B[0m\u001B[1;33m.\u001B[0m\u001B[0m_getitem_multilevel\u001B[0m\u001B[1;33m(\u001B[0m\u001B[0mkey\u001B[0m\u001B[1;33m)\u001B[0m\u001B[1;33m\u001B[0m\u001B[1;33m\u001B[0m\u001B[0m\n\u001B[1;32m-> 3024\u001B[1;33m             \u001B[0mindexer\u001B[0m \u001B[1;33m=\u001B[0m \u001B[0mself\u001B[0m\u001B[1;33m.\u001B[0m\u001B[0mcolumns\u001B[0m\u001B[1;33m.\u001B[0m\u001B[0mget_loc\u001B[0m\u001B[1;33m(\u001B[0m\u001B[0mkey\u001B[0m\u001B[1;33m)\u001B[0m\u001B[1;33m\u001B[0m\u001B[1;33m\u001B[0m\u001B[0m\n\u001B[0m\u001B[0;32m   3025\u001B[0m             \u001B[1;32mif\u001B[0m \u001B[0mis_integer\u001B[0m\u001B[1;33m(\u001B[0m\u001B[0mindexer\u001B[0m\u001B[1;33m)\u001B[0m\u001B[1;33m:\u001B[0m\u001B[1;33m\u001B[0m\u001B[1;33m\u001B[0m\u001B[0m\n\u001B[0;32m   3026\u001B[0m                 \u001B[0mindexer\u001B[0m \u001B[1;33m=\u001B[0m \u001B[1;33m[\u001B[0m\u001B[0mindexer\u001B[0m\u001B[1;33m]\u001B[0m\u001B[1;33m\u001B[0m\u001B[1;33m\u001B[0m\u001B[0m\n",
      "\u001B[1;32mC:\\ProgramData\\Anaconda3\\envs\\DeepLearning\\lib\\site-packages\\pandas\\core\\indexes\\base.py\u001B[0m in \u001B[0;36mget_loc\u001B[1;34m(self, key, method, tolerance)\u001B[0m\n\u001B[0;32m   3080\u001B[0m                 \u001B[1;32mreturn\u001B[0m \u001B[0mself\u001B[0m\u001B[1;33m.\u001B[0m\u001B[0m_engine\u001B[0m\u001B[1;33m.\u001B[0m\u001B[0mget_loc\u001B[0m\u001B[1;33m(\u001B[0m\u001B[0mcasted_key\u001B[0m\u001B[1;33m)\u001B[0m\u001B[1;33m\u001B[0m\u001B[1;33m\u001B[0m\u001B[0m\n\u001B[0;32m   3081\u001B[0m             \u001B[1;32mexcept\u001B[0m \u001B[0mKeyError\u001B[0m \u001B[1;32mas\u001B[0m \u001B[0merr\u001B[0m\u001B[1;33m:\u001B[0m\u001B[1;33m\u001B[0m\u001B[1;33m\u001B[0m\u001B[0m\n\u001B[1;32m-> 3082\u001B[1;33m                 \u001B[1;32mraise\u001B[0m \u001B[0mKeyError\u001B[0m\u001B[1;33m(\u001B[0m\u001B[0mkey\u001B[0m\u001B[1;33m)\u001B[0m \u001B[1;32mfrom\u001B[0m \u001B[0merr\u001B[0m\u001B[1;33m\u001B[0m\u001B[1;33m\u001B[0m\u001B[0m\n\u001B[0m\u001B[0;32m   3083\u001B[0m \u001B[1;33m\u001B[0m\u001B[0m\n\u001B[0;32m   3084\u001B[0m         \u001B[1;32mif\u001B[0m \u001B[0mtolerance\u001B[0m \u001B[1;32mis\u001B[0m \u001B[1;32mnot\u001B[0m \u001B[1;32mNone\u001B[0m\u001B[1;33m:\u001B[0m\u001B[1;33m\u001B[0m\u001B[1;33m\u001B[0m\u001B[0m\n",
      "\u001B[1;31mKeyError\u001B[0m: 'index'"
     ]
    }
   ],
   "source": [
    "players_per_team_df = players_per_team_df.melt(id_vars='index')\n",
    "players_per_team_df.columns = ['season', 'team_api_id', 'players']"
   ],
   "metadata": {
    "collapsed": false,
    "pycharm": {
     "name": "#%%\n"
    }
   }
  },
  {
   "cell_type": "code",
   "execution_count": 55,
   "outputs": [
    {
     "name": "stdout",
     "output_type": "stream",
     "text": [
      "(1616, 3)\n"
     ]
    },
    {
     "data": {
      "text/plain": "         season team_api_id                                            players\n263   2015/2016        8678  [184321.0, 155913.0, 192780.0, 46349.0, 68237....\n518   2014/2015        6391                                                NaN\n468   2012/2013       10242  [39303.0, 159883.0, 41101.0, 242958.0, 36123.0...\n1356  2012/2013        8633  [29590.0, 36378.0, 25759.0, 30889.0, 46509.0, ...\n1033  2009/2010        8640  [38913.0, 26434.0, 39139.0, 5703.0, 46120.0, 3...",
      "text/html": "<div>\n<style scoped>\n    .dataframe tbody tr th:only-of-type {\n        vertical-align: middle;\n    }\n\n    .dataframe tbody tr th {\n        vertical-align: top;\n    }\n\n    .dataframe thead th {\n        text-align: right;\n    }\n</style>\n<table border=\"1\" class=\"dataframe\">\n  <thead>\n    <tr style=\"text-align: right;\">\n      <th></th>\n      <th>season</th>\n      <th>team_api_id</th>\n      <th>players</th>\n    </tr>\n  </thead>\n  <tbody>\n    <tr>\n      <th>263</th>\n      <td>2015/2016</td>\n      <td>8678</td>\n      <td>[184321.0, 155913.0, 192780.0, 46349.0, 68237....</td>\n    </tr>\n    <tr>\n      <th>518</th>\n      <td>2014/2015</td>\n      <td>6391</td>\n      <td>NaN</td>\n    </tr>\n    <tr>\n      <th>468</th>\n      <td>2012/2013</td>\n      <td>10242</td>\n      <td>[39303.0, 159883.0, 41101.0, 242958.0, 36123.0...</td>\n    </tr>\n    <tr>\n      <th>1356</th>\n      <td>2012/2013</td>\n      <td>8633</td>\n      <td>[29590.0, 36378.0, 25759.0, 30889.0, 46509.0, ...</td>\n    </tr>\n    <tr>\n      <th>1033</th>\n      <td>2009/2010</td>\n      <td>8640</td>\n      <td>[38913.0, 26434.0, 39139.0, 5703.0, 46120.0, 3...</td>\n    </tr>\n  </tbody>\n</table>\n</div>"
     },
     "execution_count": 55,
     "metadata": {},
     "output_type": "execute_result"
    }
   ],
   "source": [
    "print(players_per_team_df.shape)\n",
    "players_per_team_df.sample(5)"
   ],
   "metadata": {
    "collapsed": false,
    "pycharm": {
     "name": "#%%\n"
    }
   }
  },
  {
   "cell_type": "code",
   "execution_count": 57,
   "outputs": [],
   "source": [
    "players_per_team_df.to_csv('players_per_team.csv')"
   ],
   "metadata": {
    "collapsed": false,
    "pycharm": {
     "name": "#%%\n"
    }
   }
  }
 ],
 "metadata": {
  "kernelspec": {
   "display_name": "Python 3",
   "language": "python",
   "name": "python3"
  },
  "language_info": {
   "codemirror_mode": {
    "name": "ipython",
    "version": 3
   },
   "file_extension": ".py",
   "mimetype": "text/x-python",
   "name": "python",
   "nbconvert_exporter": "python",
   "pygments_lexer": "ipython3",
   "version": "3.8.5"
  }
 },
 "nbformat": 4,
 "nbformat_minor": 5
}