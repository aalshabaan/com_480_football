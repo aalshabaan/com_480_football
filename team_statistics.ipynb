{
 "cells": [
  {
   "cell_type": "code",
   "execution_count": 1,
   "id": "d7b94ad8-783b-4260-8d18-8affa7463034",
   "metadata": {},
   "outputs": [],
   "source": [
    "import sqlite3\n",
    "import pandas as pd\n",
    "import numpy as np"
   ]
  },
  {
   "cell_type": "code",
   "execution_count": 2,
   "id": "5dad1bde-3c52-41ef-a504-45f0fe7b8ea3",
   "metadata": {},
   "outputs": [],
   "source": [
    "# Loading Data\n",
    "db = sqlite3.connect('../data/database.sqlite')\n",
    "country = pd.read_sql_query('SELECT * FROM Country', db)\n",
    "league = pd.read_sql_query('SELECT * FROM League', db)\n",
    "match = pd.read_sql_query('SELECT * FROM Match', db)\n",
    "player = pd.read_sql_query('SELECT * FROM Player', db)\n",
    "player_attributes = pd.read_sql_query('SELECT * FROM Player_Attributes', db)\n",
    "team = pd.read_sql_query('SELECT * FROM Team', db)\n",
    "team_attributes = pd.read_sql_query('SELECT * FROM Team_Attributes', db)\n",
    "league_season_winners= pd.read_sql_query(\"\"\"\n",
    "select league_id, season,team_api_id, team_long_name, max(wins) as wins\n",
    "from\n",
    "\t(SELECT league_id, season,team_api_id, team_long_name, count(*) as wins\n",
    "\tFROM Match, Team \n",
    "\tWHERE (home_team_api_id==team_api_id AND home_team_goal > away_team_goal) OR (away_team_api_id == team_api_id AND home_team_goal < away_team_goal)\n",
    "\tGROUP By league_id, season,team_api_id, team_long_name)\n",
    "where wins>10\n",
    "GROUP by league_id, season;\n",
    " \"\"\", db)\n",
    "db.close()"
   ]
  },
  {
   "cell_type": "code",
   "execution_count": 3,
   "id": "b453b5fa-1446-4754-855b-e7927b50d41b",
   "metadata": {},
   "outputs": [
    {
     "data": {
      "text/plain": "    league_id     season  team_api_id          team_long_name  wins\n0           1  2008/2009         8635          RSC Anderlecht    24\n1           1  2009/2010         8635          RSC Anderlecht    22\n2           1  2010/2011         8635          RSC Anderlecht    19\n3           1  2011/2012         8635          RSC Anderlecht    20\n4           1  2012/2013         8635          RSC Anderlecht    20\n5           1  2014/2015         8342          Club Brugge KV    17\n6           1  2015/2016         8342          Club Brugge KV    21\n7        1729  2008/2009        10260       Manchester United    28\n8        1729  2009/2010         8455                 Chelsea    27\n9        1729  2010/2011        10260       Manchester United    23\n10       1729  2011/2012         8456         Manchester City    28\n11       1729  2012/2013        10260       Manchester United    28\n12       1729  2013/2014         8456         Manchester City    27\n13       1729  2014/2015         8455                 Chelsea    26\n14       1729  2015/2016         8197          Leicester City    23\n15       4769  2008/2009         9827   Girondins de Bordeaux    24\n16       4769  2009/2010         8592  Olympique de Marseille    23\n17       4769  2010/2011         8639              LOSC Lille    21",
      "text/html": "<div>\n<style scoped>\n    .dataframe tbody tr th:only-of-type {\n        vertical-align: middle;\n    }\n\n    .dataframe tbody tr th {\n        vertical-align: top;\n    }\n\n    .dataframe thead th {\n        text-align: right;\n    }\n</style>\n<table border=\"1\" class=\"dataframe\">\n  <thead>\n    <tr style=\"text-align: right;\">\n      <th></th>\n      <th>league_id</th>\n      <th>season</th>\n      <th>team_api_id</th>\n      <th>team_long_name</th>\n      <th>wins</th>\n    </tr>\n  </thead>\n  <tbody>\n    <tr>\n      <th>0</th>\n      <td>1</td>\n      <td>2008/2009</td>\n      <td>8635</td>\n      <td>RSC Anderlecht</td>\n      <td>24</td>\n    </tr>\n    <tr>\n      <th>1</th>\n      <td>1</td>\n      <td>2009/2010</td>\n      <td>8635</td>\n      <td>RSC Anderlecht</td>\n      <td>22</td>\n    </tr>\n    <tr>\n      <th>2</th>\n      <td>1</td>\n      <td>2010/2011</td>\n      <td>8635</td>\n      <td>RSC Anderlecht</td>\n      <td>19</td>\n    </tr>\n    <tr>\n      <th>3</th>\n      <td>1</td>\n      <td>2011/2012</td>\n      <td>8635</td>\n      <td>RSC Anderlecht</td>\n      <td>20</td>\n    </tr>\n    <tr>\n      <th>4</th>\n      <td>1</td>\n      <td>2012/2013</td>\n      <td>8635</td>\n      <td>RSC Anderlecht</td>\n      <td>20</td>\n    </tr>\n    <tr>\n      <th>5</th>\n      <td>1</td>\n      <td>2014/2015</td>\n      <td>8342</td>\n      <td>Club Brugge KV</td>\n      <td>17</td>\n    </tr>\n    <tr>\n      <th>6</th>\n      <td>1</td>\n      <td>2015/2016</td>\n      <td>8342</td>\n      <td>Club Brugge KV</td>\n      <td>21</td>\n    </tr>\n    <tr>\n      <th>7</th>\n      <td>1729</td>\n      <td>2008/2009</td>\n      <td>10260</td>\n      <td>Manchester United</td>\n      <td>28</td>\n    </tr>\n    <tr>\n      <th>8</th>\n      <td>1729</td>\n      <td>2009/2010</td>\n      <td>8455</td>\n      <td>Chelsea</td>\n      <td>27</td>\n    </tr>\n    <tr>\n      <th>9</th>\n      <td>1729</td>\n      <td>2010/2011</td>\n      <td>10260</td>\n      <td>Manchester United</td>\n      <td>23</td>\n    </tr>\n    <tr>\n      <th>10</th>\n      <td>1729</td>\n      <td>2011/2012</td>\n      <td>8456</td>\n      <td>Manchester City</td>\n      <td>28</td>\n    </tr>\n    <tr>\n      <th>11</th>\n      <td>1729</td>\n      <td>2012/2013</td>\n      <td>10260</td>\n      <td>Manchester United</td>\n      <td>28</td>\n    </tr>\n    <tr>\n      <th>12</th>\n      <td>1729</td>\n      <td>2013/2014</td>\n      <td>8456</td>\n      <td>Manchester City</td>\n      <td>27</td>\n    </tr>\n    <tr>\n      <th>13</th>\n      <td>1729</td>\n      <td>2014/2015</td>\n      <td>8455</td>\n      <td>Chelsea</td>\n      <td>26</td>\n    </tr>\n    <tr>\n      <th>14</th>\n      <td>1729</td>\n      <td>2015/2016</td>\n      <td>8197</td>\n      <td>Leicester City</td>\n      <td>23</td>\n    </tr>\n    <tr>\n      <th>15</th>\n      <td>4769</td>\n      <td>2008/2009</td>\n      <td>9827</td>\n      <td>Girondins de Bordeaux</td>\n      <td>24</td>\n    </tr>\n    <tr>\n      <th>16</th>\n      <td>4769</td>\n      <td>2009/2010</td>\n      <td>8592</td>\n      <td>Olympique de Marseille</td>\n      <td>23</td>\n    </tr>\n    <tr>\n      <th>17</th>\n      <td>4769</td>\n      <td>2010/2011</td>\n      <td>8639</td>\n      <td>LOSC Lille</td>\n      <td>21</td>\n    </tr>\n  </tbody>\n</table>\n</div>"
     },
     "execution_count": 3,
     "metadata": {},
     "output_type": "execute_result"
    }
   ],
   "source": [
    "league_season_winners.head(18)"
   ]
  },
  {
   "cell_type": "code",
   "execution_count": 4,
   "id": "ec274159-ac5a-4aaa-9389-7f6f6a1e415b",
   "metadata": {},
   "outputs": [
    {
     "data": {
      "text/plain": "'|    |   league_id | season    |   team_api_id | team_long_name   |   wins |\\n|---:|------------:|:----------|--------------:|:-----------------|-------:|\\n|  1 |           1 | 2009/2010 |          8635 | RSC Anderlecht   |     22 |\\n| 77 |       21518 | 2014/2015 |          8633 | Real Madrid CF   |     30 |\\n| 23 |        7809 | 2008/2009 |          8721 | VfL Wolfsburg    |     21 |\\n|  3 |           1 | 2011/2012 |          8635 | RSC Anderlecht   |     20 |\\n| 76 |       21518 | 2013/2014 |          9906 | Atlético Madrid  |     28 |'"
     },
     "execution_count": 4,
     "metadata": {},
     "output_type": "execute_result"
    }
   ],
   "source": [
    "winners_md = league_season_winners.sample(5).to_markdown()\n",
    "winners_md"
   ]
  },
  {
   "cell_type": "code",
   "execution_count": null,
   "outputs": [],
   "source": [
    "home_player_cols = [f'home_player_{i}' for i in range(1,12)]\n",
    "away_player_cols = [f'away_player_{i}' for i in range(1,12)]\n",
    "\n",
    "match['home_players'] = match[home_player_cols].agg(list, axis=1)\n",
    "match['away_players'] = match[away_player_cols].agg(list, axis=1)"
   ],
   "metadata": {
    "collapsed": false,
    "pycharm": {
     "name": "#%%\n"
    }
   }
  },
  {
   "cell_type": "code",
   "execution_count": 26,
   "outputs": [
    {
     "data": {
      "text/plain": "        id  league_id     season  stage                 date  match_api_id  \\\n1728  1729       1729  2008/2009      1  2008-08-17 00:00:00        489042   \n1729  1730       1729  2008/2009      1  2008-08-16 00:00:00        489043   \n1730  1731       1729  2008/2009      1  2008-08-16 00:00:00        489044   \n1731  1732       1729  2008/2009      1  2008-08-16 00:00:00        489045   \n1732  1733       1729  2008/2009      1  2008-08-17 00:00:00        489046   \n\n      home_team_api_id  away_team_api_id  home_team_goal  away_team_goal  \\\n1728             10260             10261               1               1   \n1729              9825              8659               1               0   \n1730              8472              8650               0               1   \n1731              8654              8528               2               1   \n1732             10252              8456               4               2   \n\n                                                   goal  \\\n1728  <goal><value><comment>n</comment><stats><goals...   \n1729  <goal><value><comment>n</comment><stats><goals...   \n1730  <goal><value><comment>n</comment><stats><goals...   \n1731  <goal><value><comment>n</comment><stats><goals...   \n1732  <goal><value><comment>n</comment><stats><goals...   \n\n                                                   card  \\\n1728  <card><value><comment>y</comment><stats><ycard...   \n1729                                           <card />   \n1730  <card><value><comment>y</comment><stats><ycard...   \n1731  <card><value><comment>y</comment><stats><ycard...   \n1732  <card><value><comment>y</comment><stats><ycard...   \n\n                                           home_players  \\\n1728  [30726.0, 30362.0, 30620.0, 30865.0, 32569.0, ...   \n1729  [23686.0, 26111.0, 38835.0, 30986.0, 31291.0, ...   \n1730  [32562.0, 38836.0, 24446.0, 24408.0, 36786.0, ...   \n1731  [36374.0, 30966.0, 23818.0, 37277.0, 30687.0, ...   \n1732  [30380.0, 30357.0, 24658.0, 43280.0, 23282.0, ...   \n\n                                           away_players  \n1728  [24224.0, 25518.0, 24228.0, 30929.0, 29581.0, ...  \n1729  [36373.0, 36832.0, 23115.0, 37280.0, 24728.0, ...  \n1730  [30660.0, 37442.0, 30617.0, 24134.0, 414792.0,...  \n1731  [34421.0, 34987.0, 35472.0, 111865.0, 25005.0,...  \n1732  [31432.0, 46403.0, 24208.0, 23939.0, 33963.0, ...  ",
      "text/html": "<div>\n<style scoped>\n    .dataframe tbody tr th:only-of-type {\n        vertical-align: middle;\n    }\n\n    .dataframe tbody tr th {\n        vertical-align: top;\n    }\n\n    .dataframe thead th {\n        text-align: right;\n    }\n</style>\n<table border=\"1\" class=\"dataframe\">\n  <thead>\n    <tr style=\"text-align: right;\">\n      <th></th>\n      <th>id</th>\n      <th>league_id</th>\n      <th>season</th>\n      <th>stage</th>\n      <th>date</th>\n      <th>match_api_id</th>\n      <th>home_team_api_id</th>\n      <th>away_team_api_id</th>\n      <th>home_team_goal</th>\n      <th>away_team_goal</th>\n      <th>goal</th>\n      <th>card</th>\n      <th>home_players</th>\n      <th>away_players</th>\n    </tr>\n  </thead>\n  <tbody>\n    <tr>\n      <th>1728</th>\n      <td>1729</td>\n      <td>1729</td>\n      <td>2008/2009</td>\n      <td>1</td>\n      <td>2008-08-17 00:00:00</td>\n      <td>489042</td>\n      <td>10260</td>\n      <td>10261</td>\n      <td>1</td>\n      <td>1</td>\n      <td>&lt;goal&gt;&lt;value&gt;&lt;comment&gt;n&lt;/comment&gt;&lt;stats&gt;&lt;goals...</td>\n      <td>&lt;card&gt;&lt;value&gt;&lt;comment&gt;y&lt;/comment&gt;&lt;stats&gt;&lt;ycard...</td>\n      <td>[30726.0, 30362.0, 30620.0, 30865.0, 32569.0, ...</td>\n      <td>[24224.0, 25518.0, 24228.0, 30929.0, 29581.0, ...</td>\n    </tr>\n    <tr>\n      <th>1729</th>\n      <td>1730</td>\n      <td>1729</td>\n      <td>2008/2009</td>\n      <td>1</td>\n      <td>2008-08-16 00:00:00</td>\n      <td>489043</td>\n      <td>9825</td>\n      <td>8659</td>\n      <td>1</td>\n      <td>0</td>\n      <td>&lt;goal&gt;&lt;value&gt;&lt;comment&gt;n&lt;/comment&gt;&lt;stats&gt;&lt;goals...</td>\n      <td>&lt;card /&gt;</td>\n      <td>[23686.0, 26111.0, 38835.0, 30986.0, 31291.0, ...</td>\n      <td>[36373.0, 36832.0, 23115.0, 37280.0, 24728.0, ...</td>\n    </tr>\n    <tr>\n      <th>1730</th>\n      <td>1731</td>\n      <td>1729</td>\n      <td>2008/2009</td>\n      <td>1</td>\n      <td>2008-08-16 00:00:00</td>\n      <td>489044</td>\n      <td>8472</td>\n      <td>8650</td>\n      <td>0</td>\n      <td>1</td>\n      <td>&lt;goal&gt;&lt;value&gt;&lt;comment&gt;n&lt;/comment&gt;&lt;stats&gt;&lt;goals...</td>\n      <td>&lt;card&gt;&lt;value&gt;&lt;comment&gt;y&lt;/comment&gt;&lt;stats&gt;&lt;ycard...</td>\n      <td>[32562.0, 38836.0, 24446.0, 24408.0, 36786.0, ...</td>\n      <td>[30660.0, 37442.0, 30617.0, 24134.0, 414792.0,...</td>\n    </tr>\n    <tr>\n      <th>1731</th>\n      <td>1732</td>\n      <td>1729</td>\n      <td>2008/2009</td>\n      <td>1</td>\n      <td>2008-08-16 00:00:00</td>\n      <td>489045</td>\n      <td>8654</td>\n      <td>8528</td>\n      <td>2</td>\n      <td>1</td>\n      <td>&lt;goal&gt;&lt;value&gt;&lt;comment&gt;n&lt;/comment&gt;&lt;stats&gt;&lt;goals...</td>\n      <td>&lt;card&gt;&lt;value&gt;&lt;comment&gt;y&lt;/comment&gt;&lt;stats&gt;&lt;ycard...</td>\n      <td>[36374.0, 30966.0, 23818.0, 37277.0, 30687.0, ...</td>\n      <td>[34421.0, 34987.0, 35472.0, 111865.0, 25005.0,...</td>\n    </tr>\n    <tr>\n      <th>1732</th>\n      <td>1733</td>\n      <td>1729</td>\n      <td>2008/2009</td>\n      <td>1</td>\n      <td>2008-08-17 00:00:00</td>\n      <td>489046</td>\n      <td>10252</td>\n      <td>8456</td>\n      <td>4</td>\n      <td>2</td>\n      <td>&lt;goal&gt;&lt;value&gt;&lt;comment&gt;n&lt;/comment&gt;&lt;stats&gt;&lt;goals...</td>\n      <td>&lt;card&gt;&lt;value&gt;&lt;comment&gt;y&lt;/comment&gt;&lt;stats&gt;&lt;ycard...</td>\n      <td>[30380.0, 30357.0, 24658.0, 43280.0, 23282.0, ...</td>\n      <td>[31432.0, 46403.0, 24208.0, 23939.0, 33963.0, ...</td>\n    </tr>\n  </tbody>\n</table>\n</div>"
     },
     "execution_count": 26,
     "metadata": {},
     "output_type": "execute_result"
    }
   ],
   "source": [
    "match = match[['id', 'league_id', 'season', 'stage', 'date', 'match_api_id', 'home_team_api_id', 'away_team_api_id',\n",
    "               'home_team_goal', 'away_team_goal', 'goal', 'card', 'home_players', 'away_players']].dropna()\n",
    "\n",
    "match.head(5)"
   ],
   "metadata": {
    "collapsed": false,
    "pycharm": {
     "name": "#%%\n"
    }
   }
  },
  {
   "cell_type": "code",
   "execution_count": 45,
   "outputs": [],
   "source": [
    "def unique_players(series):\n",
    "    players = []\n",
    "    for entry in series:\n",
    "        players.extend(entry)\n",
    "\n",
    "    return list(set(players))"
   ],
   "metadata": {
    "collapsed": false,
    "pycharm": {
     "name": "#%%\n"
    }
   }
  },
  {
   "cell_type": "code",
   "execution_count": 48,
   "outputs": [],
   "source": [
    "players_per_team_per_season = {}\n",
    "\n",
    "teams = match.home_team_api_id.append(match.away_team_api_id, ignore_index=True).unique()\n",
    "\n",
    "for team in teams:\n",
    "    players_per_team_per_season[team] = {}\n",
    "    temp = match[match.away_team_api_id == team]\n",
    "    for season, df in temp.groupby('season'):\n",
    "        players_per_team_per_season[team][season] = unique_players(df.away_players)\n",
    "\n",
    "    temp = match[match.away_team_api_id == team]\n",
    "    for season,df in temp.groupby('season'):\n",
    "        players_per_team_per_season[team][season].extend(unique_players(df.away_players))\n",
    "        players_per_team_per_season[team][season] = list(set(players_per_team_per_season[team][season]))"
   ],
   "metadata": {
    "collapsed": false,
    "pycharm": {
     "name": "#%%\n"
    }
   }
  },
  {
   "cell_type": "code",
   "execution_count": 44,
   "outputs": [
    {
     "name": "stdout",
     "output_type": "stream",
     "text": [
      "[24224.0, 25518.0, 24228.0, 30929.0, 29581.0, 38807.0, 40565.0, 30360.0, 33852.0, 34574.0, 37799.0]\n"
     ]
    }
   ],
   "source": [
    "for s in match.away_players:\n",
    "    print(s)\n",
    "    break"
   ],
   "metadata": {
    "collapsed": false,
    "pycharm": {
     "name": "#%%\n"
    }
   }
  },
  {
   "cell_type": "code",
   "execution_count": 14,
   "outputs": [
    {
     "name": "stdout",
     "output_type": "stream",
     "text": [
      "id\n",
      "country_id\n",
      "league_id\n",
      "season\n",
      "stage\n",
      "date\n",
      "match_api_id\n",
      "home_team_api_id\n",
      "away_team_api_id\n",
      "home_team_goal\n",
      "away_team_goal\n",
      "home_player_X1\n",
      "home_player_X2\n",
      "home_player_X3\n",
      "home_player_X4\n",
      "home_player_X5\n",
      "home_player_X6\n",
      "home_player_X7\n",
      "home_player_X8\n",
      "home_player_X9\n",
      "home_player_X10\n",
      "home_player_X11\n",
      "away_player_X1\n",
      "away_player_X2\n",
      "away_player_X3\n",
      "away_player_X4\n",
      "away_player_X5\n",
      "away_player_X6\n",
      "away_player_X7\n",
      "away_player_X8\n",
      "away_player_X9\n",
      "away_player_X10\n",
      "away_player_X11\n",
      "home_player_Y1\n",
      "home_player_Y2\n",
      "home_player_Y3\n",
      "home_player_Y4\n",
      "home_player_Y5\n",
      "home_player_Y6\n",
      "home_player_Y7\n",
      "home_player_Y8\n",
      "home_player_Y9\n",
      "home_player_Y10\n",
      "home_player_Y11\n",
      "away_player_Y1\n",
      "away_player_Y2\n",
      "away_player_Y3\n",
      "away_player_Y4\n",
      "away_player_Y5\n",
      "away_player_Y6\n",
      "away_player_Y7\n",
      "away_player_Y8\n",
      "away_player_Y9\n",
      "away_player_Y10\n",
      "away_player_Y11\n",
      "home_player_1\n",
      "home_player_2\n",
      "home_player_3\n",
      "home_player_4\n",
      "home_player_5\n",
      "home_player_6\n",
      "home_player_7\n",
      "home_player_8\n",
      "home_player_9\n",
      "home_player_10\n",
      "home_player_11\n",
      "away_player_1\n",
      "away_player_2\n",
      "away_player_3\n",
      "away_player_4\n",
      "away_player_5\n",
      "away_player_6\n",
      "away_player_7\n",
      "away_player_8\n",
      "away_player_9\n",
      "away_player_10\n",
      "away_player_11\n",
      "goal\n",
      "shoton\n",
      "shotoff\n",
      "foulcommit\n",
      "card\n",
      "cross\n",
      "corner\n",
      "possession\n",
      "B365H\n",
      "B365D\n",
      "B365A\n",
      "BWH\n",
      "BWD\n",
      "BWA\n",
      "IWH\n",
      "IWD\n",
      "IWA\n",
      "LBH\n",
      "LBD\n",
      "LBA\n",
      "PSH\n",
      "PSD\n",
      "PSA\n",
      "WHH\n",
      "WHD\n",
      "WHA\n",
      "SJH\n",
      "SJD\n",
      "SJA\n",
      "VCH\n",
      "VCD\n",
      "VCA\n",
      "GBH\n",
      "GBD\n",
      "GBA\n",
      "BSH\n",
      "BSD\n",
      "BSA\n",
      "home_players\n",
      "away_players\n"
     ]
    }
   ],
   "source": [
    "for x in match.columns:\n",
    "    print(x)"
   ],
   "metadata": {
    "collapsed": false,
    "pycharm": {
     "name": "#%%\n"
    }
   }
  },
  {
   "cell_type": "code",
   "execution_count": 50,
   "outputs": [],
   "source": [
    "pd.DataFrame(players_per_team_per_season).to_csv('players_per_team.csv')"
   ],
   "metadata": {
    "collapsed": false,
    "pycharm": {
     "name": "#%%\n"
    }
   }
  }
 ],
 "metadata": {
  "kernelspec": {
   "display_name": "Python 3",
   "language": "python",
   "name": "python3"
  },
  "language_info": {
   "codemirror_mode": {
    "name": "ipython",
    "version": 3
   },
   "file_extension": ".py",
   "mimetype": "text/x-python",
   "name": "python",
   "nbconvert_exporter": "python",
   "pygments_lexer": "ipython3",
   "version": "3.8.5"
  }
 },
 "nbformat": 4,
 "nbformat_minor": 5
}